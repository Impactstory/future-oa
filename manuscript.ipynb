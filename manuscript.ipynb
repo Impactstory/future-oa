{
 "cells": [
  {
   "cell_type": "markdown",
   "metadata": {},
   "source": [
    "# Projecting the growth of OA: a large scale extrapolation\n",
    "\n"
   ]
  },
  {
   "cell_type": "markdown",
   "metadata": {},
   "source": [
    "\n",
    "**Heather Piwowar, Jason Priem, Richard Orr**  (order tbd)   \n",
    "_Our Research (team@ourresearch.org)_\n",
    "\n",
    "First published: September 23, 2019\n"
   ]
  },
  {
   "cell_type": "markdown",
   "metadata": {},
   "source": [
    "## Introduction\n"
   ]
  },
  {
   "cell_type": "markdown",
   "metadata": {},
   "source": [
    "The adoption of [open access (OA)](https://en.wikipedia.org/wiki/Open_access) publishing is changing scholarly communication. Predicting the future prevalence of OA is crucial for many stakeholders making decisions now, including:\n",
    "\n",
    "-   libraries deciding which journals to subscribe to and how much they should pay\n",
    "\n",
    "-   institutions and funders deciding what mandates they should adopt, and the implications of existing mandates\n",
    "\n",
    "-   scholarly publishers deciding when to flip their business models to OA\n",
    "\n",
    "-   scholarly societies deciding how best to serve their members.\n",
    "\n",
    "Despite how useful OA prediction would be, only a few studies have made an attempt to empirically predict open access rates. Lewis (2012) extrapolated the rate at which [gold OA](https://en.wikipedia.org/wiki/Open_access#Gold_OA) would replace subscription-based publishing using a simple log linear extrapolation of gold vs subscription market share. Antelman (2017) used one empirically-derived growth rate for [green OA](https://en.wikipedia.org/wiki/Open_access#Green_OA) and another for all other kinds of OA combined. Both of these studies are based on data collected before 2012, and rely on relatively simple models. Moreover, these studies predict the number of papers that are OA. While this number is important, it is arguably less meaningful than the number of views that are OA, since this latter number describes the prevalence of OA as experienced by actual readers.\n",
    "\n",
    "This paper aims to address this gap in the literature. In it, we build a detailed model using data extrapolated from large and up-to-date Unpaywall dataset (https://unpaywall.org/).  We use the model to predict the number of articles that will be OA (including gold, green, hybrid, and bronze OA) over the next five years, and also use data from the Unpaywall browser add-on (https://unpaywall.org/products/extension) to predict the proportion of scholarly article views that will lead readers to OA articles over time.\n",
    "\n",
    "This paper aims to provide models of OA growth, taking the following complexities into account:\n",
    "\n",
    "-   some forms of OA include a delay between when a paper is first published and when it is first freely available\n",
    "\n",
    "-   different forms of open access are being adopted at different rates\n",
    "\n",
    "-   wide-sweeping policy changes, technical improvements, or cultural changes may cause disruptions in the growth rates of OA in the future\n"
   ]
  },
  {
   "cell_type": "markdown",
   "metadata": {},
   "source": [
    "## Data"
   ]
  },
  {
   "cell_type": "markdown",
   "metadata": {},
   "source": [
    "The data in this analysis comes from two sources: (1) the Unpaywall dataset and (2) the access logs of the Unpaywall web browser extension.\n",
    "\n",
    "<a id=\"section-oa-vocab\"></a>\n",
    "### OA type: the Unpaywall dataset of OA availability \n",
    "\n",
    "Predicting levels of open access publication in the future requires detailed, accurate, timely data.. This study uses the [Unpaywall](https://unpaywall.org/) dataset to provide this data.. Unpaywall is an open source application that  links every research article that has been assigned a Crossref DOI (more than 100 million in total) to the OA URLs where the paper can be read for free. It  is built and maintained by Our Research (formerly Impactstor), a US-based nonprofit organization. Unpaywall gathers data gathered from over 50,000 journals and open-access repositories from all over the world. The full Unpaywall dataset is freely, publicly available (see details: <https://unpaywall.org/user-guides/research>).\n",
    "\n",
    "This analysis uses all articles with a Crossref article type of \"journal-article\" published between 1950 and 2018.  [num of articles? 70891275]\n",
    "\n",
    "Our definitions of OA type (gold, green, hybrid, bronze, closed) are described in Piwowar et al. (2018). To facilitate prediction, for the purpose of this analysis we subdivided bronze OA into immediate and delayed OA. In summary, these definitions are:\n",
    "\n",
    "-   **Gold:** published in a fully-OA journal\n",
    "-   **Hybrid:** published in a toll-access journal, available on the publisher site, with an OA license\n",
    "-   **Bronze:** published in a toll-access journal, available on the publisher site, without an OA license\n",
    "    -   **Immediate Bronze:** available as Bronze OA immediately upon publication\n",
    "    -   **Delayed Bronze:** available as Bronze OA after an embargo period\n",
    "-   **Green:** published in a toll-access journal and the only fulltext copy available is in an OA repository\n",
    "-   **Closed:** everything else\n",
    "\n",
    "### Article views: access logs of the Unpaywall web browser extension\n",
    "\n",
    "Predicting the open access pattern of usage requests requires knowing the relative usage demands of papers based on their age and subject matter. This study has extracted these pageview patterns from the usage logs of the [Unpaywall browser extension](https://unpaywall.org/products/extension) for Chrome and Firefox.\n",
    "\n",
    "This extension is an open-source tool made by the same non-profit as the Unpaywall dataset described above, with the goal of helping people conveniently find free copies of research papers directly from their web browser. The extension has more than 200,000 active users and has received more than 50 million access requests between August 2018 and August 2019. Because readership data is private and potentially sensitive, we are not releasing the Unpaywall usage logs along with the other datasets behind this paper.\n"
   ]
  },
  {
   "cell_type": "markdown",
   "metadata": {},
   "source": [
    "*TODO: add more about strengths and weaknesses of this data. make a case for why it's representative. add the IP address graphs.  num events, num journals, num countries, etc.*"
   ]
  },
  {
   "cell_type": "markdown",
   "metadata": {},
   "source": [
    "## Approach\n",
    "\n",
    "The goal of this analysis is to predict two aspects of OA growth:\n",
    "1. Growth in OA articles\n",
    "2. Growth in OA article views\n",
    "\n",
    "### Overview \n",
    "\n",
    "To start, we display the growth of OA articles heretofore using a very simple approach: categorize previously-published articles by OA type, then for each group plot the count of articles by publication year.  Combining these curves together give us relative growth in articles by OA type, by year of publication.  This approach and its results are described in Section 4.2.\n",
    "\n",
    "Next, we examine the growth in OA articles *by date of observation*, rather than by date of publication.  This is a more difficult analysis than the first, and requires us to calculate the OA lag between publication and availability for different types of OA.  Once we have the pattern of OA availability by year, we forecast the OA availability of future years by assuming that it will have the same overall pattern as previous years -- the papers that will be made available next year will have the same age distribution as the papers that were made available last year.  We do allow the absolute number of papers to increase year-over-year: we estimate the future growth multiplier by extrapolating the height of past availability curves.  This analysis is presented in Section 4.3.\n",
    "\n",
    "Third, we turn to predicting the growth of OA article views -- what proportion of what is read is available OA, and how will this change in the future?  The Unpaywall browser extension logs give us a baseline of what is read right now.  By assuming that reading patterns remain relatively unchanged over time (specifically the probability that a reader wants to read a paper given its age and OA type), we use the estimates we made in Section 4.3 to calculate the relative number of views by OA type in the past and the future.  This is described in Section 4.4 and Supplementary Information.\n",
    "\n",
    "Finally, we look at the impact of including a disruptive change into our models, in this case the growth of bioRxiv.  Analysis and results are in Section 4.5."
   ]
  },
  {
   "cell_type": "markdown",
   "metadata": {},
   "source": [
    "### Glossary\n",
    "\n",
    "In addition to the OA types defined in [Section 2](#section-oa-vocab), we define additional terms as we use them in this paper, in approximate order they are discussed:\n",
    "\n",
    "- **Date of publication**: the date an article is published in a journal\n",
    "- **Embargo**: the delay that some toll-access journals require between date of publication and when an article can be made Green or Delayed Bronze OA\n",
    "- **Self-archiving**: when an author posts their article in an OA repository\n",
    "- **OA type**: the OA classification of an article, as defined in [Section 2](#section-oa-vocab).  The OA type of an article may change over time (from Closed to Delayed Bronze OA, or from Closed to Green OA) because of embargos and other self-archiving delays\n",
    "- **Date first available OA**: the date an article first becomes an OA type other than \"Closed\"\n",
    "- **OA lag**: the length of time between an article's Date of Publication and its Date First Available OA\n",
    "<pre></pre>\n",
    "- **OA assessment**: the determination of the OA type of an article at a given point in time\n",
    "- **Date of observation**: the date at which we make an OA assessment\n",
    "- **Snapshot date of OA assessment**: the point in time for which we make an OA assessment for an article or group of articles\n",
    "- **Snapshot age** of an article: the length of time between the date of a snapshot and the article's date of publication\n",
    "<pre></pre>\n",
    "- **View**: someone on the internet visited the publisher webpage of an article, presumably with the hope of reading the article\n",
    "- **Date of view**: the date of the view\n",
    "- **View age** of an article: the length of time between an article's date of publication and the date of a view\n",
    "<pre></pre>\n",
    "- **Articles by age curve**: for a given snapshot, the plot of snapshot age (in years) on the x-axis and number of articles published of that snapshot age on the y-axis\n",
    "- **Views by age curve**: the plot of view age (in years) on the x-axis and number of views received by articles of that view age on the y-axis\n",
    "- **Views per article by age curve**: the plot of view or snapshot age (in years) on the x-axis and number of views per article (by views of that view age and articles of that snapshot age) on the y-axis\n",
    "- **Views per year curve**:  the plot of year on the x-axis and the number of views estimated to have been made that year on the y-axis"
   ]
  },
  {
   "cell_type": "markdown",
   "metadata": {},
   "source": [
    "## Methods and Results\n"
   ]
  },
  {
   "cell_type": "markdown",
   "metadata": {},
   "source": [
    "### Analysis\n",
    "\n",
    "The analysis was implemented as an executable python Jupyter notebook using the pandas, scipy, matplotlib, and sqlalchemy libraries. See the [Data and code availability section](#Data-and-code-availability) below for links to the analysis code."
   ]
  },
  {
   "cell_type": "markdown",
   "metadata": {},
   "source": [
    "*---- delete the text between these lines in the final paper ----*"
   ]
  },
  {
   "cell_type": "markdown",
   "metadata": {},
   "source": [
    "#### Code: Initialization"
   ]
  },
  {
   "cell_type": "markdown",
   "metadata": {},
   "source": [
    "See notebook."
   ]
  },
  {
   "cell_type": "code",
   "execution_count": 209,
   "metadata": {
    "ExecuteTime": {
     "end_time": "2019-10-01T18:33:52.172687Z",
     "start_time": "2019-10-01T18:33:51.829467Z"
    },
    "code_folding": []
   },
   "outputs": [],
   "source": [
    "%%capture --no-stderr --no-stdout --no-display\n",
    "\n",
    "# hidden: code to import libraries, set up database connection, other initialization\n",
    "import warnings\n",
    "warnings.filterwarnings('ignore')\n",
    "\n",
    "import os\n",
    "import sys\n",
    "import datetime\n",
    "import pandas as pd\n",
    "import numpy as np\n",
    "import scipy\n",
    "from scipy import signal\n",
    "from scipy.optimize import curve_fit\n",
    "from scipy.stats.distributions import t\n",
    "from matplotlib import pyplot as plt\n",
    "import matplotlib as mpl\n",
    "from matplotlib import cm\n",
    "from matplotlib.colors import ListedColormap\n",
    "import seaborn as sns\n",
    "from sqlalchemy import create_engine\n",
    "import sqlalchemy\n",
    "import psycopg2\n",
    "from datetime import timedelta\n",
    "from IPython.display import display, HTML\n",
    "import cache_magic\n",
    "\n",
    "# our database connection\n",
    "redshift_engine = create_engine(os.getenv(\"DATABASE_URL_REDSHIFT\"))\n",
    "\n",
    "# graph style\n",
    "sns.set(style=\"ticks\")\n",
    "\n",
    "# long print, wrap\n",
    "pd.set_option('display.expand_frame_repr', False)\n",
    "\n",
    "# read from file if available, else from db and save it in a file for next time\n",
    "# will also help have data files ready for archiving in zenodo \n",
    "def read_from_file_or_db(varname, query, skip_cache=False):\n",
    "    filename = \"data/{}.csv\".format(varname)\n",
    "    my_dataframe = pd.DataFrame()\n",
    "    try:\n",
    "        if not skip_cache:\n",
    "            my_dataframe = pd.read_csv(filename)\n",
    "    except IOError:\n",
    "        pass\n",
    "    if my_dataframe.empty:\n",
    "        global redshift_engine\n",
    "        my_dataframe = pd.read_sql_query(sqlalchemy.text(query), redshift_engine)\n",
    "        my_dataframe.to_csv(filename, index=False)  # cache for the future\n",
    "\n",
    "    return my_dataframe.copy()\n",
    "\n",
    "\n",
    "# make figure captions work.  use like this: \n",
    "# make a code cell, and include\n",
    "#   register_new_figure(\"my-figure-anchor-name\") \n",
    "# before you want to refer to a figure.  This is where the link will go to.\n",
    "# and then in text markdown to refer to the figure\n",
    "#   {{figure_link(\"my-figure-anchor-name\")}}\n",
    "\n",
    "\n",
    "global figure_so_far\n",
    "global figure_numbers\n",
    "figures_so_far = 1\n",
    "figure_numbers = {}\n",
    "\n",
    "# inspired by https://github.com/l-althueser/nbindex-jupyter/blob/master/nbindex/numbered.py\n",
    "def leave_figure_anchor(anchor_text):\n",
    "    key  = u\"figure-{}\".format(anchor_text)\n",
    "    \"\"\"\n",
    "    Adds numbered named object HTML anchors. Link to them in MarkDown using: [to keyword 1](#keyword-1)\n",
    "    \"\"\"\n",
    "    return display(HTML('''<div id=\"%s\"></div>\n",
    "    <script>\n",
    "    var key = \"%s\"\n",
    "    $(\"div\").each(function(i){\n",
    "        if (this.id === key){\n",
    "            this.innerHTML = '<a name=\"' + key + '\"></a>';\n",
    "        }\n",
    "    });\n",
    "    </script>\n",
    "    ''' % (key,key)))\n",
    "\n",
    "def register_new_figure(anchor_text):\n",
    "    global figures_so_far\n",
    "    global figure_numbers\n",
    "    if not anchor_text in figure_numbers:\n",
    "        figure_numbers[anchor_text] = figures_so_far\n",
    "        leave_figure_anchor(anchor_text)\n",
    "        figures_so_far += 1\n",
    "    return figure_numbers[anchor_text]\n",
    "\n",
    "def figure_link(anchor_text=None):\n",
    "    if anchor_text:\n",
    "        template = \"[Figure {figure_number}](#figure-{anchor_text})\"\n",
    "        my_return = template.format(figure_number=figure_numbers[anchor_text], \n",
    "                                    anchor_text=anchor_text)\n",
    "    else:\n",
    "        my_return = figure_numbers\n",
    "    return my_return\n",
    "    \n",
    "\n",
    "# set up colors\n",
    "oa_status_order = [\"green\", \"gold\", \"hybrid\", \"bronze\", \"closed\"]\n",
    "oa_status_colors = [\"green\", \"gold\", \"orange\", \"brown\", \"grey\"]\n",
    "oa_color_lookup = pd.DataFrame(data = {\"name\": oa_status_order, \"color\": oa_status_colors, \"order\": range(0, len(oa_status_order))})\n",
    "my_cmap = sns.color_palette(oa_status_colors)\n",
    "\n",
    "graph_type_order = [\"green\", \"gold\", \"hybrid\", \"immediate_bronze\", \"delayed_bronze\", \"closed\"]\n",
    "graph_type_colors = [\"green\", \"gold\", \"orange\", \"brown\", \"salmon\", \"gray\"]\n",
    "graph_type_lookup = pd.DataFrame(data = {\"name\": graph_type_order, \"color\": graph_type_colors, \"order\": range(0, len(graph_type_order))})\n",
    "my_cmap_graph_type = sns.color_palette(graph_type_colors)\n",
    "\n",
    "graph_type_colors_plus_biorxiv = [\"lawngreen\"] + graph_type_colors\n",
    "graph_type_order_plus_biorxiv = [\"biorxiv\"] + graph_type_order\n",
    "plus_biorxiv_labels = [\n",
    "    \"green (biorxiv)\",\n",
    "    \"green (other)\",\n",
    "    \"gold\",\n",
    "    \"hybrid\",\n",
    "    \"bronze (immediate)\",\n",
    "    \"bronze (delayed)\",\n",
    "    \"closed\"\n",
    "]\n",
    "graph_type_plus_biorxiv_lookup = pd.DataFrame(data = {\"name\": graph_type_order_plus_biorxiv, \"color\": graph_type_colors_plus_biorxiv, \"order\": range(0, len(graph_type_colors_plus_biorxiv))})\n",
    "my_cmap_graph_type_plus_biorxiv = sns.color_palette(graph_type_colors_plus_biorxiv)\n"
   ]
  },
  {
   "cell_type": "code",
   "execution_count": null,
   "metadata": {
    "ExecuteTime": {
     "end_time": "2019-09-29T23:42:51.787510Z",
     "start_time": "2019-09-29T23:42:51.779858Z"
    }
   },
   "outputs": [],
   "source": []
  },
  {
   "cell_type": "code",
   "execution_count": null,
   "metadata": {
    "ExecuteTime": {
     "end_time": "2019-09-26T19:02:22.637411Z",
     "start_time": "2019-09-26T19:02:16.138535Z"
    }
   },
   "outputs": [],
   "source": []
  },
  {
   "cell_type": "markdown",
   "metadata": {},
   "source": [
    "#### Code: Functions"
   ]
  },
  {
   "cell_type": "markdown",
   "metadata": {},
   "source": [
    "See notebook."
   ]
  },
  {
   "cell_type": "code",
   "execution_count": 2,
   "metadata": {
    "ExecuteTime": {
     "end_time": "2019-10-01T16:42:53.279515Z",
     "start_time": "2019-10-01T16:42:52.086815Z"
    }
   },
   "outputs": [],
   "source": [
    "%%capture --no-stderr --no-stdout --no-display\n",
    "\n",
    "def get_data_extrapolated(graph_type, data_type=False, extrap=\"linear\", now_delta_years=0, cumulative=True):\n",
    "    \n",
    "    calc_min_year = 1951\n",
    "    display_min_year = 2010\n",
    "    now_year = 2019 - now_delta_years\n",
    "    max_year = 2024\n",
    "\n",
    "    min_y = 0\n",
    "    max_y = None\n",
    "    color = graph_type\n",
    "    if \"bronze\" in graph_type:\n",
    "        color = \"bronze\"\n",
    "                        \n",
    "    if isinstance(data_type, pd.DataFrame):\n",
    "        df_this_color = data_type.loc[(data_type.graph_type==graph_type)]\n",
    "    elif data_type == \"basic\":\n",
    "        df_this_color = articles_by_color_by_year.loc[(articles_by_color_by_year.oa_status==color)]\n",
    "    else:\n",
    "        df_this_color = unpaywall_graph_type.loc[(unpaywall_graph_type.oa_status==graph_type)]\n",
    "\n",
    "    totals = pd.DataFrame()\n",
    "    for i, prediction_year in enumerate(range(calc_min_year, now_year)):\n",
    "\n",
    "        if \"published_year\" in df_this_color.columns:\n",
    "            if cumulative:\n",
    "                df_this_plot = df_this_color.loc[(df_this_color[\"published_year\"] <= prediction_year)]\n",
    "            else:\n",
    "                df_this_plot = df_this_color.loc[(df_this_color[\"published_year\"] == prediction_year)]\n",
    "        else:\n",
    "            df_this_plot = df_this_color\n",
    "        y = [a for a in df_this_plot[\"num_articles\"] if not np.isnan(a)]\n",
    "        prediction_y = sum(y)\n",
    "\n",
    "        totals = totals.append(pd.DataFrame(data={\"prediction_year\": [prediction_year], \n",
    "                                             \"num_articles\": [prediction_y]}))\n",
    "\n",
    "      \n",
    "    x = totals[\"prediction_year\"]\n",
    "    y = totals[\"num_articles\"]\n",
    "    xnew = np.arange(now_year-1, max_year+1, 1)\n",
    "    if extrap==\"linear\":\n",
    "        f = scipy.interpolate.interp1d(x, y, fill_value=\"extrapolate\", kind=\"linear\")\n",
    "        ynew = f(xnew)\n",
    "    else:\n",
    "        f = scipy.interpolate.interp1d(x, np.log10(y), fill_value=\"extrapolate\", kind=\"linear\")\n",
    "        ynew = 10 ** f(xnew)\n",
    "    \n",
    "    new_data = pd.DataFrame({\"color\":color, \"graph_type\": graph_type, \"x\":np.append(x[:-1], xnew), \"y\":np.append(y[:-1], ynew)})\n",
    "\n",
    "    return new_data\n",
    "\n",
    "\n",
    "def graph_data_extrapolated(graph_type, data_type=False, extrap=\"linear\", now_delta_years=0, ax=None, cumulative=True):\n",
    "    calc_min_year = 1951\n",
    "    display_min_year = 2000\n",
    "    now_year = 2019 - now_delta_years\n",
    "    max_year = 2024\n",
    "\n",
    "    min_y = 0\n",
    "    max_y = None\n",
    "    color = graph_type\n",
    "    if \"bronze\" in graph_type:\n",
    "        color = \"bronze\"\n",
    "    \n",
    "    new_data = get_data_extrapolated(graph_type, data_type, extrap, now_delta_years, cumulative)\n",
    "\n",
    "    year_range = range(display_min_year, now_year)\n",
    "    \n",
    "    if not isinstance(data_type, pd.DataFrame) and data_type == \"simple\":\n",
    "        my_color_lookup = oa_color_lookup.loc[oa_color_lookup[\"name\"]==color]\n",
    "    else:\n",
    "        my_color_lookup = graph_type_lookup.loc[graph_type_lookup[\"name\"]==graph_type]\n",
    "    \n",
    "    if not ax:\n",
    "        fig = plt.figure()\n",
    "        ax = plt.subplot(111)\n",
    "\n",
    "    if not max_y:\n",
    "        max_y = 5 * max(new_data[\"y\"])\n",
    "\n",
    "    df_actual = new_data.loc[new_data[\"x\"] < now_year]\n",
    "    x = [int(a) for a in df_actual[\"x\"]]\n",
    "    y = [int(a) for a in df_actual[\"y\"]]\n",
    "    df_future = new_data.loc[new_data[\"x\"] >= now_year]\n",
    "    xnew = [int(a) for a in df_future[\"x\"]]\n",
    "    ynew = [int(a) for a in df_future[\"y\"]]\n",
    "\n",
    "    ax.plot(x, y, 'o', color=\"black\")\n",
    "    ax.fill_between(x, y, color=my_color_lookup[\"color\"])\n",
    "\n",
    "    ax.plot(xnew, ynew, 'o', color=\"black\", alpha=0.3)\n",
    "    ax.fill_between(xnew, ynew, color=my_color_lookup[\"color\"], alpha=0.3)\n",
    "    if cumulative:\n",
    "        ax.yaxis.set_major_formatter(mpl.ticker.FuncFormatter(lambda y, pos: '{0:,.0f}'.format(y/(1000*1000.0))))\n",
    "        ax.set_ylabel(\"articles (millions)\")\n",
    "        ax.set_xlabel(\"year\")\n",
    "    else:\n",
    "        ax.yaxis.set_major_formatter(mpl.ticker.FuncFormatter(lambda y, pos: '{0:,.1f}'.format(y/(1000*1000.0))))\n",
    "        ax.set_ylabel(\"articles (millions)\")\n",
    "        ax.set_xlabel(\"year of publication\")\n",
    "    ax.set_xlim(min(year_range), max_year)\n",
    "    ax.set_title(graph_type);\n",
    "\n",
    "    return new_data"
   ]
  },
  {
   "cell_type": "code",
   "execution_count": 3,
   "metadata": {
    "ExecuteTime": {
     "end_time": "2019-10-01T16:42:53.645157Z",
     "start_time": "2019-10-01T16:42:53.339074Z"
    }
   },
   "outputs": [],
   "source": [
    "%%capture --no-stderr --no-stdout --no-display\n",
    "\n",
    "# graph!  :)\n",
    "\n",
    "def graph_available_papers_at_year_of_availability(graph_type, now_delta_years=0, ax=None):\n",
    "    calc_min_year = 1951\n",
    "    display_min_year = 2010\n",
    "    now_year = 2018 - now_delta_years\n",
    "    max_year = 2024\n",
    "\n",
    "    color = graph_type\n",
    "    if \"bronze\" in graph_type:\n",
    "        color = \"bronze\"\n",
    "\n",
    "    if graph_type == \"biorxiv\":\n",
    "        my_color_lookup = {\"color\": \"limegreen\"}\n",
    "    else:\n",
    "        my_color_lookup = graph_type_lookup.loc[graph_type_lookup[\"name\"]==graph_type]        \n",
    "        \n",
    "    all_papers_per_year = get_papers_by_availability_year_including_future(graph_type, calc_min_year, max_year)\n",
    "\n",
    "    most_recent_year = all_papers_per_year.loc[all_papers_per_year.article_years_from_availability == 0]\n",
    "    \n",
    "    x = [int(a) for a in most_recent_year.loc[most_recent_year.prediction_year <= now_year][\"prediction_year\"]]\n",
    "    xnew = [int(a) for a in most_recent_year.loc[most_recent_year.prediction_year > now_year][\"prediction_year\"]]\n",
    "    y = [int(a) for a in most_recent_year.loc[most_recent_year.prediction_year <= now_year][\"num_articles\"]]\n",
    "    ynew = [int(a) for a in most_recent_year.loc[most_recent_year.prediction_year > now_year][\"num_articles\"]]\n",
    "\n",
    "    year_range = range(display_min_year, now_year)\n",
    "    if not ax:\n",
    "        fig = plt.figure()\n",
    "        ax = plt.subplot(111)\n",
    "\n",
    "    max_y = 1.2 * max(ynew)\n",
    "\n",
    "    ax.plot(x, y, 'o', color=\"black\")\n",
    "    ax.fill_between(x, y, color=my_color_lookup[\"color\"])\n",
    "\n",
    "    ax.plot(xnew, ynew, 'o', color=\"black\", alpha=0.3)\n",
    "    ax.fill_between(xnew, ynew, color=my_color_lookup[\"color\"], alpha=0.3)\n",
    "    ax.yaxis.set_major_formatter(mpl.ticker.FuncFormatter(lambda y, pos: '{0:,.2f}'.format(y/(1000*1000.0))))\n",
    "    ax.set_ylabel(\"total papers (millions)\")\n",
    "\n",
    "    ax.set_xlim(min(year_range), max_year)\n",
    "#         ax.set_ylim(0, max_y)\n",
    "    ax.set_xlabel('year of observation')\n",
    "    title = plt.suptitle(\"OA status by observation year\")\n",
    "    title.set_position([.5, 1.05])\n",
    "    all_papers_per_year.reset_index(inplace=True)\n",
    "    return all_papers_per_year"
   ]
  },
  {
   "cell_type": "code",
   "execution_count": 49,
   "metadata": {
    "ExecuteTime": {
     "end_time": "2019-10-01T16:48:38.438708Z",
     "start_time": "2019-10-01T16:48:38.392048Z"
    }
   },
   "outputs": [],
   "source": [
    "%%capture --no-stderr --no-stdout --no-display\n",
    "\n",
    "def graph_available_papers_in_observation_year_by_pubdate(graph_type, data, observation_year, ax=None):\n",
    "    display_min_year = 2010\n",
    "    max_year = 2024\n",
    "\n",
    "    x = [int(a) for a in data[\"publication_date\"]]\n",
    "    y = [int(a) for a in data[\"num_articles\"]]\n",
    "\n",
    "    my_color_lookup = graph_type_lookup.loc[graph_type_lookup[\"name\"]==graph_type]\n",
    "    if not ax:\n",
    "        fig = plt.figure()\n",
    "        ax = plt.subplot(111)\n",
    "\n",
    "    alpha = 1\n",
    "#     if observation_year > 2018:\n",
    "#         alpha = 0.3\n",
    "    ax.bar(x, y, color=my_color_lookup[\"color\"], alpha=alpha)\n",
    "\n",
    "    ax.yaxis.set_major_formatter(mpl.ticker.FuncFormatter(lambda y, pos: '{0:,.1f}'.format(y/(1000*1000.0))))\n",
    "    ax.set_xlim(display_min_year, max_year+1)\n",
    "    max_y = 1.2 * data.num_articles.max()\n",
    "    try:\n",
    "        ax.set_ylim(0, max_y)\n",
    "    except:\n",
    "        pass\n",
    "    ax.set_xlabel(\"\")\n",
    "    ax.set_ylabel(\"\")\n",
    "    ax.set_title(\"{}: {}\".format(graph_type, observation_year));  \n",
    "#     title = plt.suptitle(\"Availability in {}, by publication date\".format(observation_year))\n",
    "#     title.set_position([.5, 1.05])\n",
    "    return \n",
    "\n"
   ]
  },
  {
   "cell_type": "code",
   "execution_count": 195,
   "metadata": {
    "ExecuteTime": {
     "end_time": "2019-10-01T18:22:34.468339Z",
     "start_time": "2019-10-01T18:22:34.417825Z"
    }
   },
   "outputs": [],
   "source": [
    "def get_papers_by_availability_year_including_future(graph_type, start_year, end_year):\n",
    "    start_calc_year = 2009\n",
    "    now_year = 2015\n",
    "    offset = 0\n",
    "    global final_extraps\n",
    "    \n",
    "    my_return = pd.DataFrame()\n",
    "\n",
    "    for prediction_year in range(min(start_year, start_calc_year), now_year+1):        \n",
    "#         print prediction_year\n",
    "        papers_per_year = get_papers_by_availability_year(graph_type, prediction_year, just_this_year=False)\n",
    "        papers_per_year[\"prediction_year\"] = prediction_year\n",
    "        my_return = my_return.append(papers_per_year)\n",
    "        \n",
    "    if end_year >= now_year:\n",
    "        scale_df = final_extraps.copy()\n",
    "        current_year_all = get_papers_by_availability_year(graph_type, now_year, just_this_year=False)\n",
    "        now_year_new = get_papers_by_availability_year(graph_type, now_year, just_this_year=True)\n",
    "        for i, prediction_year in enumerate(range(now_year+1, end_year+1)): \n",
    "            current_year_all[\"article_years_from_availability\"] += 1 \n",
    "#             print now_year_all.head()\n",
    "#             print now_year_new.head()\n",
    "            merged_df = current_year_all.merge(now_year_new, on=\"article_years_from_availability\", suffixes=[\"_all\", \"_new\"], how=\"outer\")\n",
    "            merged_df = merged_df.fillna(0)\n",
    "#             print merged_df.head(10)\n",
    "            scale = float(scale_df.loc[(scale_df.x==prediction_year)&(scale_df.graph_type==graph_type)].y) / int(scale_df.loc[(scale_df.x==now_year)&(scale_df.graph_type==graph_type)].y) \n",
    "            merged_df[\"num_articles\"] = merged_df[\"num_articles_all\"] + [int(scale * a) for a in merged_df[\"num_articles_new\"]]\n",
    "            merged_df[\"prediction_year\"] = prediction_year\n",
    "            current_year_all = pd.DataFrame(merged_df, columns=[\"num_articles\", \n",
    "                                                      \"article_years_from_availability\", \n",
    "                                                      \"prediction_year\"])\n",
    "            my_return = my_return.append(current_year_all)\n",
    "\n",
    "    my_return.reset_index(inplace=True)\n",
    "    return my_return"
   ]
  },
  {
   "cell_type": "code",
   "execution_count": null,
   "metadata": {
    "ExecuteTime": {
     "end_time": "2019-10-01T18:16:31.366527Z",
     "start_time": "2019-10-01T18:16:30.026668Z"
    }
   },
   "outputs": [],
   "source": []
  },
  {
   "cell_type": "code",
   "execution_count": 6,
   "metadata": {
    "ExecuteTime": {
     "end_time": "2019-10-01T16:42:54.226347Z",
     "start_time": "2019-10-01T16:42:53.994181Z"
    }
   },
   "outputs": [],
   "source": [
    "%%capture --no-stderr --no-stdout --no-display\n",
    "\n",
    "# graph!  :)\n",
    "\n",
    "def graph_views(graph_type, data=None, now_delta_years=0, ax=None):\n",
    "    calc_min_year = 1951\n",
    "    display_min_year = 2010\n",
    "    now_year = 2018 - now_delta_years\n",
    "    max_year = 2024\n",
    "\n",
    "    color = graph_type\n",
    "\n",
    "    if isinstance(data, pd.DataFrame):\n",
    "        df_views_by_year = data\n",
    "    else:\n",
    "        df_views_by_year = get_predicted_views(graph_type, display_min_year, max_year)\n",
    "\n",
    "    year_range = range(display_min_year, now_year)\n",
    "    if graph_type == \"biorxiv\":\n",
    "        my_color_lookup = {\"color\": \"limegreen\"}\n",
    "    else:\n",
    "        my_color_lookup = graph_type_lookup.loc[graph_type_lookup[\"name\"]==color]\n",
    "        \n",
    "    if not ax:\n",
    "        fig = plt.figure()\n",
    "        ax = plt.subplot(111)\n",
    "\n",
    "    \n",
    "    x = [int(a) for a in df_views_by_year[\"observation_year\"]]\n",
    "    y = [int(a) for a in df_views_by_year[\"views\"]]\n",
    "    max_y = 1.2 * max(y)\n",
    "\n",
    "    ax.scatter(x, y, marker='x', s=70, color=my_color_lookup[\"color\"])\n",
    "\n",
    "    ax.yaxis.set_major_formatter(mpl.ticker.FuncFormatter(lambda y, pos: '{0:,.1f}'.format(y/(1000*1000.0))))\n",
    "    ax.set_ylabel(\"number of views (millions)\")\n",
    "\n",
    "    ax.set_xlim(min(year_range), max_year+1)\n",
    "#         ax.set_ylim(0, max_y)\n",
    "    ax.set_xlabel('access year')\n",
    "    title = plt.suptitle(\"Estimated views by access year, by OA type\")\n",
    "    title.set_position([.5, 1.05])\n",
    "    return df_views_by_year"
   ]
  },
  {
   "cell_type": "code",
   "execution_count": 7,
   "metadata": {
    "ExecuteTime": {
     "end_time": "2019-10-01T16:42:54.922246Z",
     "start_time": "2019-10-01T16:42:54.234510Z"
    }
   },
   "outputs": [],
   "source": [
    "\n",
    "# do calculations\n",
    "\n",
    "def get_papers_by_availability_year(graph_type=\"closed\", availability_year=2000, just_this_year=False):\n",
    "    my_return = pd.DataFrame()\n",
    "        \n",
    "    if just_this_year:\n",
    "        if graph_type == \"closed\":\n",
    "            rows_published_this_year = articles_by_color_by_year.loc[articles_by_color_by_year[\"published_year\"] == availability_year]\n",
    "            total_this_year = rows_published_this_year.num_articles.sum()\n",
    "            \n",
    "            open_this_year = 0\n",
    "            for prep_graph_type in [\"gold\", \"hybrid\", \"green\", \"immediate_bronze\", \"delayed_bronze\"]:\n",
    "#             for prep_graph_type in [\"hybrid\", \"green\", \"delayed_bronze\"]:\n",
    "                temp_papers = get_papers_by_availability_year(prep_graph_type, availability_year, just_this_year=False)\n",
    "                temp_papers = temp_papers.loc[temp_papers.article_years_from_availability == 0]\n",
    "                num_articles = temp_papers.num_articles.sum()\n",
    "#                 print prep_graph_type, num_articles\n",
    "                open_this_year += num_articles\n",
    "            num_closed = total_this_year - open_this_year\n",
    "            \n",
    "            my_return = pd.DataFrame({\n",
    "                \"article_years_from_availability\": [0],\n",
    "                \"num_articles\": [num_closed]\n",
    "            })\n",
    "        else:\n",
    "            prev_year_history = get_papers_by_availability_year(graph_type, availability_year-1, just_this_year=False)\n",
    "            prev_year_history[\"article_years_from_availability\"] += 1\n",
    "            this_year_history = get_papers_by_availability_year(graph_type, availability_year, just_this_year=False)\n",
    "            df_merged = this_year_history.merge(prev_year_history, on=\"article_years_from_availability\", how=\"left\")\n",
    "            df_merged = df_merged.fillna(0)\n",
    "            df_merged[\"num_articles\"] = df_merged[\"num_articles_x\"] - df_merged[\"num_articles_y\"]\n",
    "            df_merged[\"num_articles\"][df_merged[\"num_articles\"] < 25] = 0\n",
    "            df_merged = df_merged.loc[df_merged[\"article_years_from_availability\"] <= 10]\n",
    "            my_return = pd.DataFrame({\n",
    "                \"article_years_from_availability\": df_merged[\"article_years_from_availability\"],\n",
    "                \"num_articles\": df_merged[\"num_articles\"]\n",
    "            })\n",
    "\n",
    "    else:\n",
    "            \n",
    "        if graph_type == \"delayed_bronze\":\n",
    "            temp_papers = papers_after_cutoffs_after_embargo_delayed_bronze.loc[papers_after_cutoffs_after_embargo_delayed_bronze[\"prediction_year\"]==availability_year]\n",
    "            my_return = pd.DataFrame({\n",
    "                \"article_years_from_availability\": temp_papers[\"article_age_years\"],\n",
    "                \"num_articles\": temp_papers[\"num_articles\"]\n",
    "            })\n",
    "\n",
    "        elif graph_type == \"green\":\n",
    "\n",
    "            my_green_oa = green_oa_with_dates_by_availability\n",
    "\n",
    "            my_green_oa = my_green_oa.loc[my_green_oa[\"months_old_at_first_deposit\"] >= -24]\n",
    "            my_green_oa = my_green_oa.loc[my_green_oa[\"months_old_at_first_deposit\"] <= 12*25]\n",
    "            my_green_oa = my_green_oa.loc[my_green_oa[\"year_of_first_availability\"] <= availability_year]\n",
    "\n",
    "            my_green_oa_pivot = my_green_oa.pivot_table(\n",
    "                         index='published_year', values=['num_articles'], aggfunc=np.sum)\n",
    "            my_green_oa_pivot.reset_index(inplace=True)\n",
    "            my_green_oa_pivot = my_green_oa_pivot.sort_values(by=[\"published_year\"], ascending=False)\n",
    "            my_green_oa_pivot[\"article_years_from_availability\"] = [(availability_year - a) for a in my_green_oa_pivot[\"published_year\"]]\n",
    "            my_return = pd.DataFrame({\n",
    "                \"article_years_from_availability\": my_green_oa_pivot[\"article_years_from_availability\"],\n",
    "                \"num_articles\": my_green_oa_pivot[\"num_articles\"]\n",
    "            })\n",
    "\n",
    "        elif graph_type == \"closed\":\n",
    "            my_return = pd.DataFrame()\n",
    "            for i, year in enumerate(range(availability_year+1, 1990, -1)):\n",
    "                closed_rows = get_papers_by_availability_year(graph_type, availability_year - i, just_this_year=True)\n",
    "                closed_rows[\"article_years_from_availability\"] = i\n",
    "                my_return = my_return.append(closed_rows)\n",
    "            \n",
    "        elif graph_type == \"immediate_bronze\":\n",
    "            temp_papers = articles_by_color_by_year_with_embargos.loc[(articles_by_color_by_year_with_embargos.oa_status==\"bronze\") &\n",
    "                                                                   (articles_by_color_by_year_with_embargos[\"embargo\"].isnull()) &\n",
    "                                                                  (articles_by_color_by_year_with_embargos.published_year <= availability_year)]\n",
    "#             temp_papers[\"article_years_from_availability\"] = availability_year - temp_papers[\"published_year\"]        \n",
    "            temp_pivot = temp_papers.pivot_table(\n",
    "                         index='published_year', values=['num_articles'], aggfunc=np.sum)\n",
    "            temp_pivot.reset_index(inplace=True)\n",
    "            my_return = pd.DataFrame({\n",
    "                \"article_years_from_availability\": availability_year - temp_pivot.published_year,\n",
    "                \"num_articles\": temp_pivot.num_articles\n",
    "            })\n",
    "\n",
    "        elif graph_type == \"biorxiv\": \n",
    "            my_return = biorxiv_growth.copy()\n",
    "            my_return = my_return.loc[my_return[\"published_year\"] <= availability_year]\n",
    "            my_return[\"article_years_from_availability\"] = availability_year - my_return[\"published_year\"]\n",
    "        else:\n",
    "            temp_papers = articles_by_color_by_year.loc[(articles_by_color_by_year.oa_status==graph_type) &\n",
    "                                                    (articles_by_color_by_year.published_year <= availability_year)]\n",
    "            my_return = pd.DataFrame({\n",
    "                \"article_years_from_availability\": [availability_year - a for a in temp_papers[\"published_year\"]],\n",
    "                \"num_articles\": temp_papers[\"num_articles\"]\n",
    "            })\n",
    "\n",
    "\n",
    "    if not my_return.empty:\n",
    "        my_return = pd.DataFrame(my_return, columns=[\"article_years_from_availability\", \"num_articles\"])        \n",
    "        my_return = my_return.sort_values(by=\"article_years_from_availability\")\n",
    "\n",
    "    return my_return\n",
    "\n",
    "\n"
   ]
  },
  {
   "cell_type": "code",
   "execution_count": 8,
   "metadata": {
    "ExecuteTime": {
     "end_time": "2019-10-01T16:42:54.958479Z",
     "start_time": "2019-10-01T16:42:54.941728Z"
    }
   },
   "outputs": [],
   "source": [
    "\n",
    "# %lprun -f get_papers_by_availability_year get_papers_by_availability_year(\"closed\", 2001, False)\n",
    "# a = get_papers_by_availability_year(\"closed\", 2001, False)\n",
    "# print a.head()"
   ]
  },
  {
   "cell_type": "code",
   "execution_count": 9,
   "metadata": {
    "ExecuteTime": {
     "end_time": "2019-10-01T16:42:55.056859Z",
     "start_time": "2019-10-01T16:42:54.974583Z"
    }
   },
   "outputs": [],
   "source": [
    "%%capture --no-stderr --no-stdout --no-display\n",
    "\n",
    "def get_predicted_views_by_pubdate(graph_type, observation_year):\n",
    "\n",
    "    views_per_article = get_views_per_article(graph_type)\n",
    "           \n",
    "    df_views_by_year = pd.DataFrame()\n",
    "    all_papers_per_year = get_papers_by_availability_year_including_future(graph_type, observation_year, observation_year+1)\n",
    "    papers_per_year = all_papers_per_year.loc[all_papers_per_year[\"prediction_year\"] == observation_year]\n",
    "    \n",
    "    try:\n",
    "        data_merged_clean = papers_per_year.merge(views_per_article, left_on=[\"article_years_from_availability\"], right_on=[\"article_age_years\"])\n",
    "        data_merged_clean = data_merged_clean.sort_values(\"article_age_years\")\n",
    "#         print data_merged_clean.head()\n",
    "        data_merged_clean[\"views\"] = data_merged_clean[\"views_per_article\"] * data_merged_clean[\"num_articles\"]\n",
    "        data_merged_clean[\"observation_year\"] = observation_year\n",
    "        data_merged_clean[\"publication_year\"] = observation_year - data_merged_clean[\"article_age_years\"]\n",
    "        new_data = pd.DataFrame(data_merged_clean, columns=[\"publication_year\", \"views\", \"article_age_years\", \"observation_year\"])\n",
    "        df_views_by_year = df_views_by_year.append(new_data)\n",
    "    except (ValueError, KeyError):  # happens when the year is blank\n",
    "        pass\n",
    "    \n",
    "    return df_views_by_year"
   ]
  },
  {
   "cell_type": "code",
   "execution_count": null,
   "metadata": {},
   "outputs": [],
   "source": []
  },
  {
   "cell_type": "code",
   "execution_count": 10,
   "metadata": {
    "ExecuteTime": {
     "end_time": "2019-10-01T16:42:55.229500Z",
     "start_time": "2019-10-01T16:42:55.082135Z"
    }
   },
   "outputs": [],
   "source": [
    "%%capture --no-stderr --no-stdout --no-display\n",
    "\n",
    "def get_predicted_views(graph_type, now_delta_years=0):\n",
    "#     calc_min_year = 1951\n",
    "    calc_min_year = 1995\n",
    "    display_min_year = 2010\n",
    "    now_year = 2020 - now_delta_years\n",
    "    max_year = 2024\n",
    "    exponential = False\n",
    "\n",
    "    if graph_type == \"biorxiv\":\n",
    "        exponential = True\n",
    "        \n",
    "    views_per_article = get_views_per_article(graph_type)\n",
    "           \n",
    "    df_views_by_year = pd.DataFrame()\n",
    "    \n",
    "    all_papers_per_year = all_predicted_papers_future\n",
    "    for prediction_year in range(calc_min_year, max_year+1):        \n",
    "#     for prediction_year in range(calc_min_year, 2019):        \n",
    "#     for prediction_year in range(2017, 2019):        \n",
    "        papers_per_year = all_papers_per_year.loc[all_papers_per_year[\"prediction_year\"] == prediction_year]\n",
    "        papers_per_year = papers_per_year.loc[papers_per_year[\"graph_type\"] == graph_type]\n",
    "#         print views_per_article.head()\n",
    "        try:\n",
    "            data_merged_clean = papers_per_year.merge(views_per_article, left_on=[\"article_years_from_availability\"], right_on=[\"article_age_years\"])\n",
    "            data_merged_clean = data_merged_clean.sort_values(\"article_age_years\")\n",
    "            win = data_merged_clean[\"views_per_article\"] \n",
    "            sig = data_merged_clean[\"num_articles\"]\n",
    "            views_by_access_year = signal.convolve(win, sig, mode='same', method=\"direct\")\n",
    "            y = max(views_by_access_year)\n",
    "            df_views_by_year = df_views_by_year.append(pd.DataFrame({\"observation_year\":[prediction_year], \"views\": [y]}))\n",
    "        except (ValueError, KeyError):  # happens when the year is blank\n",
    "            pass\n",
    "        \n",
    "\n",
    "    return df_views_by_year"
   ]
  },
  {
   "cell_type": "code",
   "execution_count": 11,
   "metadata": {
    "ExecuteTime": {
     "end_time": "2019-10-01T16:42:55.493034Z",
     "start_time": "2019-10-01T16:42:55.243450Z"
    }
   },
   "outputs": [],
   "source": [
    "%%capture --no-stderr --no-stdout --no-display\n",
    "\n",
    "def get_papers_by_availability_year_total(availability_year):\n",
    "    all_data = pd.DataFrame()\n",
    "    for prep_graph_type in [\"gold\", \"hybrid\", \"green\", \"immediate_bronze\", \"delayed_bronze\", \"closed\"]:\n",
    "#     for prep_graph_type in [\"gold\", \"hybrid\", \"green\", \"immediate_bronze\", \"delayed_bronze\"]:\n",
    "        temp_papers = get_papers_by_availability_year_including_future(prep_graph_type, availability_year, availability_year+1)\n",
    "        temp_papers[\"graph_type\"] = prep_graph_type\n",
    "#         print prep_graph_type\n",
    "#         print \"{:,.0f}\".format(temp_papers.num_articles.max()), \"{:,.0f}\".format(temp_papers.num_articles.sum())\n",
    "#         print \"\\n\"\n",
    "        all_data = all_data.append(temp_papers)\n",
    "    return all_data\n",
    "\n",
    "def get_views_per_year_total():\n",
    "    all_data = pd.DataFrame()\n",
    "    for prep_graph_type in [\"gold\", \"hybrid\", \"green\", \"immediate_bronze\", \"delayed_bronze\", \"closed\"]:\n",
    "        temp_papers = get_views_per_year(prep_graph_type)\n",
    "        temp_papers[\"graph_type\"] = prep_graph_type\n",
    "#         print prep_graph_type\n",
    "#         print \"{:,.0f}\".format(temp_papers.num_views_per_year.max()), \"{:,.0f}\".format(temp_papers.num_views_per_year.sum())\n",
    "#         print \"\\n\"\n",
    "        all_data = all_data.append(temp_papers)\n",
    "    return all_data\n",
    "\n",
    "\n",
    "\n",
    "def get_views_per_article_total():\n",
    "    all_data = pd.DataFrame()\n",
    "    for prep_graph_type in [\"gold\", \"hybrid\", \"green\", \"immediate_bronze\", \"delayed_bronze\", \"closed\"]:\n",
    "        temp_papers = get_views_per_article(prep_graph_type)\n",
    "#         print prep_graph_type\n",
    "#         print \"{:,.0f}\".format(temp_papers.views_per_article.max()), \"{:,.0f}\".format(temp_papers.views_per_article.sum())\n",
    "#         print \"\\n\"\n",
    "        temp_papers[\"graph_type\"] = prep_graph_type\n",
    "        all_data = all_data.append(temp_papers)\n",
    "    return all_data\n",
    "\n",
    "\n",
    "def get_predicted_views_total(observation_year):\n",
    "    all_data = pd.DataFrame()\n",
    "    for prep_graph_type in [\"gold\", \"hybrid\", \"green\", \"immediate_bronze\", \"delayed_bronze\", \"closed\"]:\n",
    "#     for prep_graph_type in [\"gold\", \"hybrid\", \"green\", \"immediate_bronze\", \"delayed_bronze\"]:\n",
    "        temp_papers = get_predicted_views(prep_graph_type, observation_year)\n",
    "        temp_papers[\"graph_type\"] = prep_graph_type\n",
    "#         print prep_graph_type        \n",
    "        all_data = all_data.append(temp_papers)\n",
    "    return all_data\n",
    "\n",
    "def get_predicted_views_by_pubdate_total(observation_year):\n",
    "    all_data = pd.DataFrame()\n",
    "#     for prep_graph_type in [\"gold\", \"hybrid\", \"green\", \"immediate_bronze\"]:\n",
    "    for prep_graph_type in [\"gold\", \"hybrid\", \"green\", \"immediate_bronze\", \"delayed_bronze\", \"closed\"]:\n",
    "        temp_papers = get_predicted_views_by_pubdate(prep_graph_type, observation_year)\n",
    "        temp_papers[\"graph_type\"] = prep_graph_type\n",
    "#         print prep_graph_type\n",
    "        all_data = all_data.append(temp_papers)\n",
    "    return all_data\n"
   ]
  },
  {
   "cell_type": "code",
   "execution_count": 12,
   "metadata": {
    "ExecuteTime": {
     "end_time": "2019-10-01T16:42:55.682918Z",
     "start_time": "2019-10-01T16:42:55.500143Z"
    }
   },
   "outputs": [],
   "source": [
    "def get_views_per_year(graph_type):\n",
    "    if graph_type == \"delayed_bronze\":\n",
    "        views_per_year = data_usage_by_age_years.loc[(data_usage_by_age_years.oa_status==\"bronze\") &\n",
    "                                                       (data_usage_by_age_years.delayed_or_immediate==\"delayed\")]\n",
    "    elif graph_type == \"immediate_bronze\":\n",
    "        views_per_year = data_usage_by_age_years.loc[(data_usage_by_age_years.oa_status==\"bronze\") &\n",
    "                                                       (data_usage_by_age_years[\"delayed_or_immediate\"]==\"immediate\")]\n",
    "\n",
    "    else:\n",
    "        views_per_year = data_usage_by_age_years.loc[(data_usage_by_age_years.oa_status==graph_type)]\n",
    "\n",
    "    views_per_year[\"num_views_one_month\"] = views_per_year[\"num_views\"]  # this is just for one month\n",
    "    views_per_year[\"num_views_per_year\"] = 12.0 * views_per_year[\"num_views_one_month\"]\n",
    "    del views_per_year[\"num_views\"]\n",
    "    del views_per_year[\"delayed_or_immediate\"]\n",
    "    views_per_year = views_per_year.sort_values(by=\"article_age_years\")\n",
    "    views_per_year = views_per_year.loc[views_per_year[\"article_age_years\"] < 15]\n",
    "    \n",
    "    return views_per_year     \n",
    "\n",
    "\n",
    "def get_views_per_article(graph_type):\n",
    "    if graph_type == \"biorxiv\":\n",
    "        graph_type = \"green\"\n",
    "        \n",
    "    views_per_year = get_views_per_year(graph_type)\n",
    "    papers_per_year = get_papers_by_availability_year(graph_type, 2018, just_this_year=False)\n",
    "    papers_per_year[\"article_age_years\"] = papers_per_year[\"article_years_from_availability\"]\n",
    "    papers_per_year = papers_per_year.loc[(papers_per_year[\"article_age_years\"] <=15 )]\n",
    "\n",
    "    data_merged_clean = papers_per_year.merge(views_per_year, on=[\"article_age_years\"])        \n",
    "    data_merged_clean[\"views_per_article\"] = data_merged_clean[\"num_views_per_year\"] / data_merged_clean[\"num_articles\"]\n",
    "\n",
    "    views_per_article = pd.DataFrame(data_merged_clean, columns=[\"article_age_years\", \"views_per_article\"])\n",
    "    views_per_article = views_per_article.sort_values(by=\"article_age_years\")\n",
    "\n",
    "    if graph_type==\"delayed_bronze\":\n",
    "        # otherwise first one is too high because number articles too low in year 0 for delayed subset\n",
    "        views_per_article.loc[views_per_article.article_age_years==0, [\"views_per_article\"]] = float(views_per_article.loc[views_per_article.article_age_years==1].views_per_article)\n",
    "\n",
    "    return views_per_article"
   ]
  },
  {
   "cell_type": "code",
   "execution_count": 13,
   "metadata": {
    "ExecuteTime": {
     "end_time": "2019-10-01T16:42:56.168487Z",
     "start_time": "2019-10-01T16:42:55.694342Z"
    }
   },
   "outputs": [],
   "source": [
    "%%capture --no-stderr --no-stdout --no-display\n",
    "\n",
    "def plot_area_and_proportion(df, color_type, start_year, end_year, divide_year, \n",
    "                             xlabel=\"year of publication\",\n",
    "                             fancy=None):\n",
    "    if color_type==\"simple\":\n",
    "        my_colors = oa_status_colors\n",
    "        my_color_order = oa_status_order\n",
    "        color_column = \"color\"\n",
    "    else:\n",
    "        my_colors = graph_type_colors\n",
    "        my_color_order = graph_type_order\n",
    "        color_column = \"graph_type\"\n",
    "        \n",
    "    all_data_pivot = df.pivot_table(\n",
    "                 index='x', columns=color_column, values=['y'], aggfunc=np.sum)\\\n",
    "           .sort_index(axis=1, level=1)\\\n",
    "           .swaplevel(0, 1, axis=1)\n",
    "    all_data_pivot.columns = all_data_pivot.columns.levels[0]\n",
    "\n",
    "    fig, (ax1, ax2) = plt.subplots(1, 2, figsize=(12, 3), sharex=True, sharey=False)\n",
    "    plt.tight_layout(pad=0, w_pad=2, h_pad=1)\n",
    "    plt.subplots_adjust(hspace=1)\n",
    "\n",
    "    all_data_pivot_graph = all_data_pivot\n",
    "    if fancy==\"cumulative\":\n",
    "        all_data_pivot_graph = all_data_pivot_graph.cumsum(0)\n",
    "    elif fancy==\"diff\":\n",
    "        all_data_pivot_graph = all_data_pivot_graph.diff()\n",
    "    all_data_pivot_graph = all_data_pivot_graph.loc[all_data_pivot_graph.index > 1950]\n",
    "    all_data_pivot_graph = all_data_pivot_graph.loc[all_data_pivot_graph.index <= end_year]\n",
    "        \n",
    "    # print all_data_pivot_graph\n",
    "    all_data_pivot_actual = all_data_pivot_graph.loc[all_data_pivot_graph.index <= divide_year+1]\n",
    "    my_plot = all_data_pivot_actual[my_color_order].plot.area(stacked=True, color=my_colors, linewidth=.1,  ax=ax1)\n",
    "    if end_year > divide_year:\n",
    "        all_data_pivot_projected = all_data_pivot_graph.loc[all_data_pivot_graph.index > divide_year]\n",
    "        my_plot = all_data_pivot_projected[my_color_order].plot.area(stacked=True, color=my_colors, linewidth=.1,  ax=ax1, alpha=0.6)\n",
    "    ax1.xaxis.set_major_formatter(mpl.ticker.StrMethodFormatter('{x:.0f}'))\n",
    "    ax1.yaxis.set_major_formatter(mpl.ticker.FuncFormatter(lambda y, pos: '{0:,.0f}'.format(y/(1000*1000.0))))\n",
    "    ax1.set_xlabel(xlabel)\n",
    "    ax1.set_ylabel(\"articles (millions)\")    \n",
    "    ax1.set_xlim(start_year, end_year)\n",
    "    ax1.set_ylim(0, 1.2*max(all_data_pivot_graph.sum(1)))\n",
    "#     ax1.set_title(\"Number of papers\");\n",
    "    handles, labels = my_plot.get_legend_handles_labels(); my_plot.legend(reversed(handles[0:len(my_colors)]), reversed(labels[0:len(my_colors)]), loc='upper left');  # reverse to keep order consistent\n",
    "\n",
    "    df_diff_proportional = all_data_pivot_graph.div(all_data_pivot_graph.sum(1), axis=0)\n",
    "    all_data_pivot_actual = df_diff_proportional.loc[all_data_pivot_graph.index <= divide_year+1]\n",
    "    my_plot = all_data_pivot_actual[my_color_order].plot.area(stacked=True, color=my_colors, linewidth=.1,  ax=ax2)\n",
    "    if end_year > divide_year:\n",
    "        all_data_pivot_projected = df_diff_proportional.loc[all_data_pivot_graph.index > divide_year]\n",
    "        my_plot = all_data_pivot_projected[my_color_order].plot.area(stacked=True, color=my_colors, linewidth=.1,  ax=ax2, alpha=0.6)\n",
    "    my_plot.yaxis.set_major_formatter(mpl.ticker.PercentFormatter(xmax=1))\n",
    "    ax2.set_xlabel(xlabel)\n",
    "    ax2.set_ylabel('proportion of articles')\n",
    "#     ax2.set_title(\"Proportion of papers\");\n",
    "    ax2.set_xlim(start_year, end_year)\n",
    "    ax2.set_ylim(0, 1)    \n",
    "    handles, labels = my_plot.get_legend_handles_labels(); my_plot.legend(reversed(handles[0:len(my_colors)]), reversed(labels[0:len(my_colors)]), loc='upper left');  # reverse to keep order consistent\n",
    "\n",
    "    plt.tight_layout(pad=.5, w_pad=4, h_pad=2.0) "
   ]
  },
  {
   "cell_type": "code",
   "execution_count": 14,
   "metadata": {
    "ExecuteTime": {
     "end_time": "2019-10-01T16:42:56.893487Z",
     "start_time": "2019-10-01T16:42:56.183763Z"
    }
   },
   "outputs": [],
   "source": [
    "# plot graphs duplicate new\n",
    "\n",
    "def get_long_data(graph_type):\n",
    "    full_range = range(1990, 2020)\n",
    "\n",
    "    totals_bronze = pd.DataFrame()\n",
    "    for i, prediction_year in enumerate(full_range):\n",
    "        new_frame = get_papers_by_availability_year(graph_type, prediction_year, just_this_year=True)\n",
    "        new_frame[\"prediction_year\"] = prediction_year\n",
    "        new_frame[\"published_year\"] = [int(prediction_year - a) for a in new_frame[\"article_years_from_availability\"]]\n",
    "        totals_bronze = totals_bronze.append(new_frame)\n",
    "\n",
    "    long_data_for_plot = totals_bronze\n",
    "    long_data_for_plot = long_data_for_plot.loc[long_data_for_plot[\"article_years_from_availability\"] < 15]\n",
    "    return long_data_for_plot\n",
    "\n",
    "def first_detailed_plots(graph_type):\n",
    "    my_color_lookup = graph_type_lookup.loc[graph_type_lookup[\"name\"]==graph_type]    \n",
    "\n",
    "    long_data_for_plot = get_long_data(graph_type)\n",
    "    pivot_data_for_plot = long_data_for_plot.pivot_table(\n",
    "                 index='published_year', columns='prediction_year', values=['num_articles'], aggfunc=np.sum)\\\n",
    "           .sort_index(axis=1, level=1)\\\n",
    "           .swaplevel(0, 1, axis=1)\n",
    "    pivot_data_for_plot.columns = pivot_data_for_plot.columns.levels[0]\n",
    "    pivot_data_for_plot[pivot_data_for_plot < 0] = 0\n",
    "    pivot_data_for_plot[\"published_year\"] = [int(a) for a in pivot_data_for_plot.index]\n",
    "\n",
    "    years = range(2015, 2018+1)\n",
    "\n",
    "    historical_graphs = False\n",
    "    color_idx = np.linspace(0, 1, len(years))\n",
    "    fig, axes = plt.subplots(len(years), 1, figsize=(8, 7), sharex=True, sharey=True)\n",
    "    axes_flatten = axes.flatten()\n",
    "    axis_index = 0\n",
    "    max_y_for_this_plot = max(pivot_data_for_plot.max(1))\n",
    "    for i, prediction_year in enumerate(years):\n",
    "        ax = axes_flatten[axis_index]        \n",
    "        axis_index += 1\n",
    "        rows = pivot_data_for_plot.copy()\n",
    "        rows = rows.loc[pd.notnull(rows[prediction_year])]\n",
    "        x = [int(a) for a in rows.index]\n",
    "        y = [int(a) for a in rows[prediction_year]]\n",
    "        ax.bar(x, y, color=my_color_lookup[\"color\"])\n",
    "        ax.set_ylim(0, 1.2*max_y_for_this_plot)    \n",
    "        ax.set_xlim(2010, 2019)\n",
    "        if ax.get_legend():\n",
    "            ax.get_legend().remove()  \n",
    "        ax.yaxis.set_major_formatter(mpl.ticker.StrMethodFormatter('{x:,.0f}'))\n",
    "        ax.xaxis.set_major_formatter(mpl.ticker.StrMethodFormatter('{x:.0f}'))\n",
    "        ax.spines['top'].set_visible(False)\n",
    "        ax.spines['right'].set_visible(False)\n",
    "        ax.spines['bottom'].set_visible(False)\n",
    "        ax.spines['left'].set_visible(False)   \n",
    "        y_label = \"Year First Available OA: {}\".format(prediction_year) \n",
    "        ax.set_ylabel(y_label, rotation='horizontal', labelpad=100, verticalalignment=\"center\")\n",
    "        ax.set_yticks([])\n",
    "    ax.set_xlabel(\"Year of Publication\")\n",
    "    plt.tight_layout()\n",
    "    plt.show()\n",
    "        \n",
    "        \n"
   ]
  },
  {
   "cell_type": "code",
   "execution_count": null,
   "metadata": {},
   "outputs": [],
   "source": []
  },
  {
   "cell_type": "code",
   "execution_count": 15,
   "metadata": {
    "ExecuteTime": {
     "end_time": "2019-10-01T16:42:57.444481Z",
     "start_time": "2019-10-01T16:42:56.904340Z"
    }
   },
   "outputs": [],
   "source": [
    "def make_detailed_plots(graph_type):\n",
    "    num_subplots = 8\n",
    "\n",
    "    long_data_for_plot = get_long_data(graph_type)\n",
    "    pivot_data_for_plot = long_data_for_plot.pivot_table(\n",
    "                 index='published_year', columns='prediction_year', values=['num_articles'], aggfunc=np.sum)\\\n",
    "           .sort_index(axis=1, level=1)\\\n",
    "           .swaplevel(0, 1, axis=1)\n",
    "    pivot_data_for_plot.columns = pivot_data_for_plot.columns.levels[0]\n",
    "    pivot_data_for_plot[pivot_data_for_plot < 0] = 0\n",
    "    # print pivot_data_for_plot\n",
    "\n",
    "    years = [year for year in pivot_data_for_plot.columns if year > 1990]\n",
    "\n",
    "    for historical_graphs in (False, True):\n",
    "        color_idx = np.linspace(0, 1, len(years))\n",
    "        fig, axes = plt.subplots(len(years[-num_subplots:]), 1, figsize=(7, 6), sharex=True, sharey=True)\n",
    "        axes_flatten = axes.flatten()\n",
    "        axis_index = 0\n",
    "        max_y_for_this_plot = max(pivot_data_for_plot.max(1))\n",
    "        for i, prediction_year in zip(color_idx[-num_subplots:], years[-num_subplots:]):\n",
    "            ax = axes_flatten[axis_index]        \n",
    "            axis_index += 1\n",
    "            if historical_graphs:\n",
    "                pivot_data_for_plot[range(2000, prediction_year+1)].plot.area(stacked=True,  alpha=0.4, ax=ax, color=[plt.cm.jet(i) for x in range(2000, prediction_year)])\n",
    "                try:\n",
    "                    pivot_data_for_plot[range(2000, prediction_year)].plot.area(stacked=True,  ax=ax, alpha=.9, color=\"lightgray\")\n",
    "                    ax.set_ylim(0, 3*max_y_for_this_plot)    \n",
    "                except TypeError:\n",
    "                    pass       \n",
    "            else:\n",
    "                pivot_data_for_plot[prediction_year].plot.area(stacked=False, ax=ax,  alpha=.4, color=plt.cm.jet(i))\n",
    "                ax.set_ylim(0, 1.2*max_y_for_this_plot)    \n",
    "            ax.set_xlim(2009, 2018)\n",
    "            if ax.get_legend():\n",
    "                ax.get_legend().remove()        \n",
    "            ax.yaxis.set_major_formatter(mpl.ticker.StrMethodFormatter('{x:,.0f}'))\n",
    "            ax.xaxis.set_major_formatter(mpl.ticker.StrMethodFormatter('{x:.0f}'))\n",
    "            ax.spines['top'].set_visible(False)\n",
    "            ax.spines['right'].set_visible(False)\n",
    "            ax.spines['bottom'].set_visible(False)\n",
    "            ax.spines['left'].set_visible(False)   \n",
    "            y_label = \"{} made available during {}:\".format(graph_type, prediction_year) \n",
    "            ax.set_ylabel(y_label, rotation='horizontal', labelpad=150, verticalalignment=\"center\")\n",
    "            ax.set_yticks([])\n",
    "        plt.tight_layout()\n",
    "        plt.show()\n",
    "\n",
    "    fig, ax1 = plt.subplots(1, 1, figsize=(10, 3))\n",
    "    pivot_data_for_plot[years].plot.area(stacked=True, ax=ax1,   alpha=.4, cmap=plt.cm.jet)\n",
    "    ax1.set_xlim(2000, 2018)\n",
    "    legend_handles, legend_labels = ax1.get_legend_handles_labels(); ax1.legend(reversed(legend_handles[-8:]), reversed(legend_labels[-8:]), loc='upper left');  # reverse to keep order consistent\n",
    "    ax1.yaxis.set_major_formatter(mpl.ticker.StrMethodFormatter('{x:,.0f}'))\n",
    "    ax1.xaxis.set_major_formatter(mpl.ticker.StrMethodFormatter('{x:.0f}'))\n",
    "    ax1.axvline(x=2015, color='black')\n",
    "    ax1.set_title(\"Total {} OA available in 2019, by year of availability and publication year\".format(graph_type));\n",
    "    ax1.set_ylabel(\"number of articles\")\n",
    "    ax1.set_xlabel(\"published year\")\n",
    "    \n",
    "    plt.tight_layout()\n",
    "    plt.show()\n"
   ]
  },
  {
   "cell_type": "code",
   "execution_count": 16,
   "metadata": {
    "ExecuteTime": {
     "end_time": "2019-10-01T16:42:57.567775Z",
     "start_time": "2019-10-01T16:42:57.454268Z"
    }
   },
   "outputs": [],
   "source": [
    "\n",
    "def make_zoom_in_plot(graph_type):\n",
    "    full_range = range(1990, 2020)\n",
    "    long_data_for_plot = get_long_data(graph_type)\n",
    "    color_idx = np.linspace(0, 1, len(full_range))\n",
    "\n",
    "    fig, ax1 = plt.subplots(1, 1, figsize=(4, 4))\n",
    "    data_for_this_plot = long_data_for_plot\n",
    "    data_for_this_plot = data_for_this_plot.loc[data_for_this_plot[\"published_year\"]==2015]\n",
    "    total_sum = data_for_this_plot[\"num_articles\"].sum()\n",
    "    data_for_this_plot = data_for_this_plot.loc[data_for_this_plot[\"num_articles\"]/total_sum>=0.01]\n",
    "#     print data_for_this_plot\n",
    "    # data_for_this_plot = data_for_this_plot.drop(columns=[\"article_age_months\"])\n",
    "    pivot_df = data_for_this_plot.pivot_table(index='published_year', columns='prediction_year', aggfunc=np.sum)\n",
    "    pivot_df = pivot_df.div(pivot_df.sum(1), axis=0)\n",
    "    pivot_df.plot.bar(stacked=True, alpha=.4, ax=ax1, colors=[plt.cm.jet(a) for a in list(color_idx[-len(pivot_df.sum(0)):])])\n",
    "    ax1.yaxis.set_major_formatter(mpl.ticker.PercentFormatter(xmax=1))\n",
    "    plt.ylabel('proportion of articles')\n",
    "    plt.title(\"Proportion of {} articles published in 2015\".format(graph_type));\n",
    "    ax1.set_xlabel(\"\")\n",
    "    ax1.set_xticks([]) \n",
    "    legend_handles, legend_labels = ax1.get_legend_handles_labels(); \n",
    "    cleaned_legend_labels = [a[-5:-1] for a in legend_labels]\n",
    "    legend_length = len(data_for_this_plot)  # just the nonzero ones\n",
    "    ax1.legend(reversed(legend_handles[-legend_length:]), reversed(cleaned_legend_labels[-legend_length:]), loc='upper left');  # reverse to keep order consistent\n"
   ]
  },
  {
   "cell_type": "markdown",
   "metadata": {
    "ExecuteTime": {
     "end_time": "2019-09-30T17:10:37.857306Z",
     "start_time": "2019-09-30T17:10:37.851170Z"
    },
    "code_folding": []
   },
   "source": [
    "#### Code: SQL"
   ]
  },
  {
   "cell_type": "markdown",
   "metadata": {},
   "source": [
    "See notebook."
   ]
  },
  {
   "cell_type": "code",
   "execution_count": 17,
   "metadata": {
    "ExecuteTime": {
     "end_time": "2019-10-01T16:42:57.739241Z",
     "start_time": "2019-10-01T16:42:57.574732Z"
    },
    "code_folding": []
   },
   "outputs": [],
   "source": [
    "%%capture --no-stderr --no-stdout --no-display\n",
    "\n",
    "# query for articles_by_color_by_year_with_embargos and articles_by_color_by_year\n",
    "\n",
    "q = \"\"\"\n",
    "with fix_elsevier_delayed_oa_status as (\n",
    "select doi, \n",
    "case when oa_status != 'hybrid' then oa_status \n",
    "when delayed.embargo is not null and best_license = 'elsevier-specific: oa user license' then 'bronze'\n",
    "else 'hybrid'\n",
    "end as oa_status\n",
    "from unpaywall u\n",
    "left join journal_delayed_oa_active delayed on u.journal_issn_l = delayed.issn_l\n",
    ")\n",
    "select date_part('year', published_date::timestamp)::int as published_year, \n",
    "fixed.oa_status,\n",
    "delayed.embargo,\n",
    "count(*) as num_articles\n",
    "from unpaywall u\n",
    "left join journal_delayed_oa_active delayed on u.journal_issn_l = delayed.issn_l\n",
    "join fix_elsevier_delayed_oa_status fixed on fixed.doi=u.doi\n",
    "where genre = 'journal-article' and journal_issn_l not in ('0849-6757', '0931-7597')\n",
    "and published_year > '1950-01-01'::timestamp\n",
    "-- and published_year < '2019-01-01'::timestamp\n",
    "group by published_year, fixed.oa_status, embargo\n",
    "order by published_year asc\n",
    "\"\"\"\n",
    "articles_by_color_by_year_with_embargos = read_from_file_or_db(\"articles_by_color_by_year_with_embargos\", q)\n",
    "\n",
    "articles_by_color_by_year = articles_by_color_by_year_with_embargos.drop(columns = [\"embargo\"])\n",
    "articles_by_color_by_year = articles_by_color_by_year.groupby(['published_year', 'oa_status']).sum()\n",
    "articles_by_color_by_year.reset_index(inplace=True)\n"
   ]
  },
  {
   "cell_type": "code",
   "execution_count": 18,
   "metadata": {
    "ExecuteTime": {
     "end_time": "2019-10-01T16:42:57.799653Z",
     "start_time": "2019-10-01T16:42:57.746393Z"
    }
   },
   "outputs": [],
   "source": [
    "%%capture --no-stderr --no-stdout --no-display\n",
    "\n",
    "# query for unpaywall_graph_type\n",
    "\n",
    "q = \"\"\"\n",
    "with fix_elsevier_delayed_oa_status as (\n",
    "select doi, \n",
    "case when oa_status != 'hybrid' then oa_status \n",
    "when delayed.embargo is not null and best_license = 'elsevier-specific: oa user license' then 'bronze'\n",
    "else 'hybrid'\n",
    "end as oa_status\n",
    "from unpaywall u\n",
    "left join journal_delayed_oa_active delayed on u.journal_issn_l = delayed.issn_l\n",
    ")\n",
    "select date_part('year', published_date::timestamp) as published_year, \n",
    "fixed.oa_status,\n",
    "case when fixed.oa_status='bronze' and delayed.embargo is not null then 'delayed_bronze' \n",
    "    when fixed.oa_status='bronze' and delayed.embargo is null then 'immediate_bronze' \n",
    "    else fixed.oa_status end\n",
    "    as graph_type,\n",
    "count(*) as num_articles\n",
    "from unpaywall u\n",
    "left join journal_delayed_oa_active delayed on u.journal_issn_l = delayed.issn_l\n",
    "join fix_elsevier_delayed_oa_status fixed on fixed.doi=u.doi\n",
    "where genre = 'journal-article' and journal_issn_l not in ('0849-6757', '0931-7597')\n",
    "and published_year > '1950-01-01'::timestamp\n",
    "and published_year < '2019-01-01'::timestamp\n",
    "group by published_year, fixed.oa_status, graph_type\n",
    "order by published_year asc\n",
    "\"\"\"\n",
    "unpaywall_graph_type = read_from_file_or_db(\"unpaywall_graph_type\", q)\n"
   ]
  },
  {
   "cell_type": "code",
   "execution_count": 19,
   "metadata": {
    "ExecuteTime": {
     "end_time": "2019-10-01T16:42:57.883650Z",
     "start_time": "2019-10-01T16:42:57.820680Z"
    },
    "code_folding": []
   },
   "outputs": [],
   "source": [
    "%%capture --no-stderr --no-stdout --no-display\n",
    "\n",
    "# query for data_usage_by_age_months_no_color_full_year.  maybe don't need this one in the final paper?\n",
    "\n",
    "q = \"\"\"\n",
    "select datediff('days', published_date::timestamp, received_at_raw::timestamp)/30 as article_age_months, \n",
    "count(u.doi) as num_views \n",
    "from papertrail_unpaywall_extracted extracted \n",
    "join unpaywall u on extracted.doi=u.doi \n",
    "where genre = 'journal-article' and journal_issn_l not in ('0849-6757', '0931-7597')\n",
    "and published_date > '1950-01-01'::timestamp\n",
    "-- and published_date < current_date\n",
    "-- and received_at_raw > '2019-07-15'\n",
    "-- and last_changed_date < '2019-07-01'::timestamp\n",
    "and extracted.doi not in ('10.1038/nature21360', '10.1038/nature11723')\n",
    "group by article_age_months\n",
    "order by article_age_months asc\n",
    "\n",
    "\"\"\"\n",
    "data_usage_by_age_months_no_color_full_year = read_from_file_or_db(\"data_usage_by_age_months_no_color_full_year\", q)\n"
   ]
  },
  {
   "cell_type": "code",
   "execution_count": 20,
   "metadata": {
    "ExecuteTime": {
     "end_time": "2019-10-01T16:42:58.606533Z",
     "start_time": "2019-10-01T16:42:58.491265Z"
    },
    "code_folding": []
   },
   "outputs": [],
   "source": [
    "%%capture --no-stderr --no-stdout --no-display\n",
    "\n",
    "# query for data_usage_by_age_months\n",
    "q = \"\"\"\n",
    "with fix_elsevier_delayed_oa_status as (\n",
    "select doi, \n",
    "case when oa_status != 'hybrid' then oa_status \n",
    "when delayed.embargo is not null and best_license = 'elsevier-specific: oa user license' then 'bronze'\n",
    "else 'hybrid'\n",
    "end as oa_status\n",
    "from unpaywall u\n",
    "left join journal_delayed_oa_active delayed on u.journal_issn_l = delayed.issn_l\n",
    ")\n",
    "select datediff('days', published_date::timestamp, received_at_raw::timestamp)/30 as article_age_months, \n",
    "fixed.oa_status,\n",
    "count(u.doi) as num_views \n",
    "from papertrail_unpaywall_extracted extracted\n",
    "join unpaywall u on extracted.doi=u.doi \n",
    "join fix_elsevier_delayed_oa_status fixed on fixed.doi=u.doi\n",
    "where genre = 'journal-article' and journal_issn_l not in ('0849-6757', '0931-7597')\n",
    "and published_date > '1950-01-01'::timestamp\n",
    "and published_date < current_date\n",
    "and received_at_raw > '2019-07-01'\n",
    "and received_at_raw <= '2019-08-01'\n",
    "-- and last_changed_date < '2019-07-01'::timestamp\n",
    "and extracted.doi != '10.1038/nature21360'\n",
    "group by article_age_months, fixed.oa_status\n",
    "order by article_age_months asc\n",
    "\"\"\"\n",
    "data_usage_by_age_months = read_from_file_or_db(\"data_usage_by_age_months\", q)\n",
    "\n"
   ]
  },
  {
   "cell_type": "code",
   "execution_count": 21,
   "metadata": {
    "ExecuteTime": {
     "end_time": "2019-10-01T16:42:58.736195Z",
     "start_time": "2019-10-01T16:42:58.625049Z"
    }
   },
   "outputs": [],
   "source": [
    "%%capture --no-stderr --no-stdout --no-display\n",
    "\n",
    "# query for data_usage_by_age_years\n",
    "\n",
    "q = \"\"\"\n",
    "with fix_elsevier_delayed_oa_status as (\n",
    "select doi, \n",
    "case when oa_status != 'hybrid' then oa_status \n",
    "when delayed.embargo is not null and best_license = 'elsevier-specific: oa user license' then 'bronze'\n",
    "else 'hybrid'\n",
    "end as oa_status\n",
    "from unpaywall u\n",
    "left join journal_delayed_oa_active delayed on u.journal_issn_l = delayed.issn_l\n",
    ")\n",
    "select datediff('days', published_date::timestamp, received_at_raw::timestamp)/(30*12) as article_age_years, \n",
    "fixed.oa_status,\n",
    "case when fixed.oa_status='bronze' and journal_issn_l in (select issn_l from journal_delayed_oa_active) then 'delayed' when fixed.oa_status='bronze' then 'immediate' else null end as delayed_or_immediate,\n",
    "count(u.doi) as num_views \n",
    "from papertrail_unpaywall_extracted extracted \n",
    "join unpaywall u on extracted.doi=u.doi \n",
    "join fix_elsevier_delayed_oa_status fixed on fixed.doi=u.doi\n",
    "where genre = 'journal-article' and journal_issn_l not in ('0849-6757', '0931-7597')\n",
    "and published_date > '1950-01-01'::timestamp\n",
    "and published_date < current_date\n",
    "and received_at_raw > '2019-07-01'\n",
    "and received_at_raw <= '2019-08-01'\n",
    "and extracted.doi != '10.1038/nature21360'\n",
    "group by article_age_years, fixed.oa_status, delayed_or_immediate\n",
    "order by article_age_years asc\n",
    "\"\"\"\n",
    "data_usage_by_age_years = read_from_file_or_db(\"data_usage_by_age_years\", q)\n"
   ]
  },
  {
   "cell_type": "code",
   "execution_count": 22,
   "metadata": {
    "ExecuteTime": {
     "end_time": "2019-10-01T16:42:58.889879Z",
     "start_time": "2019-10-01T16:42:58.746281Z"
    }
   },
   "outputs": [],
   "source": [
    "%%capture --no-stderr --no-stdout --no-display\n",
    "\n",
    "q = \"\"\"\n",
    "with fix_elsevier_delayed_oa_status as (\n",
    "select doi, \n",
    "case when oa_status != 'hybrid' then oa_status \n",
    "when delayed.embargo is not null and best_license = 'elsevier-specific: oa user license' then 'bronze'\n",
    "else 'hybrid'\n",
    "end as oa_status\n",
    "from unpaywall u\n",
    "left join journal_delayed_oa_active delayed on u.journal_issn_l = delayed.issn_l\n",
    ")\n",
    "select date_part('year', min_record_timestamp) as year_of_first_availability, \n",
    "datediff('days', published_date::timestamp, min_record_timestamp)/30 as months_old_at_first_deposit,\n",
    "date_part('year', published_date::timestamp) as published_year,\n",
    "count(*) as num_articles\n",
    "from unpaywall u\n",
    "join unpaywall_pmh_record_min_timestamp pmh on u.doi=pmh.doi\n",
    "join fix_elsevier_delayed_oa_status fixed on fixed.doi=u.doi\n",
    "where fixed.oa_status = 'green'\n",
    "and genre = 'journal-article' and journal_issn_l not in ('0849-6757', '0931-7597')\n",
    "and year_of_first_availability is not null\n",
    "group by year_of_first_availability, months_old_at_first_deposit, published_year\n",
    "\n",
    "\n",
    "\"\"\"\n",
    "green_oa_with_dates_by_availability = read_from_file_or_db(\"green_oa_with_dates_by_availability\", q)\n"
   ]
  },
  {
   "cell_type": "code",
   "execution_count": 23,
   "metadata": {
    "ExecuteTime": {
     "end_time": "2019-10-01T16:43:06.998473Z",
     "start_time": "2019-10-01T16:42:58.917657Z"
    },
    "code_folding": []
   },
   "outputs": [],
   "source": [
    "%%capture --no-stderr --no-stdout --no-display\n",
    "\n",
    "# queries\n",
    "\n",
    "min_prediction_year = 1949\n",
    "max_prediction_year = 2019 + 1\n",
    "prediction_year_range = range(min_prediction_year, max_prediction_year)\n",
    "unpaywall_data_by_months_cutoffs = pd.DataFrame()\n",
    "\n",
    "for i, prediction_year in enumerate(range(min_prediction_year - 1, max_prediction_year)):\n",
    "    \n",
    "    q = \"\"\"\n",
    "    with fix_elsevier_delayed_oa_status as (\n",
    "    select doi, \n",
    "    case when oa_status != 'hybrid' then oa_status \n",
    "    when delayed.embargo is not null and best_license = 'elsevier-specific: oa user license' then 'bronze'\n",
    "    else 'hybrid'\n",
    "    end as oa_status\n",
    "    from unpaywall u\n",
    "    left join journal_delayed_oa_active delayed on u.journal_issn_l = delayed.issn_l\n",
    "    )\n",
    "    select \n",
    "    datediff('days', published_date::timestamp, '{prediction_year}-01-01'::timestamp)/30 as article_age_months, \n",
    "    --datediff('days', published_date::timestamp, current_date)/30 as article_age_months_from_now, \n",
    "    {prediction_year} as prediction_year,\n",
    "    count(*) as num_articles\n",
    "    from unpaywall u\n",
    "    left join journal_delayed_oa_active delayed on u.journal_issn_l = delayed.issn_l\n",
    "    join fix_elsevier_delayed_oa_status fixed on fixed.doi=u.doi\n",
    "    where genre = 'journal-article' and journal_issn_l not in ('0849-6757', '0931-7597')\n",
    "    and fixed.oa_status = 'bronze'\n",
    "    and delayed.embargo is not null\n",
    "    and published_date > '1950-01-01'::timestamp\n",
    "    and published_date <= ADD_MONTHS('{prediction_year}-01-01'::timestamp, -embargo::integer)\n",
    "    group by prediction_year, article_age_months\n",
    "    order by prediction_year, article_age_months asc\n",
    "    \"\"\".format(prediction_year=prediction_year)\n",
    "\n",
    "    filename_root = \"parts/{varname}_{index}\".format(varname=\"bronze_rows\", index=i)    \n",
    "    bronze_rows = read_from_file_or_db(filename_root, q)\n",
    "    \n",
    "    unpaywall_data_by_months_cutoffs = unpaywall_data_by_months_cutoffs.append(bronze_rows)\n",
    "unpaywall_data_by_months_cutoffs.to_csv(\"data/unpaywall_data_by_months_cutoffs.csv\")"
   ]
  },
  {
   "cell_type": "code",
   "execution_count": 24,
   "metadata": {
    "ExecuteTime": {
     "end_time": "2019-10-01T16:43:11.497968Z",
     "start_time": "2019-10-01T16:43:07.018732Z"
    },
    "cell_style": "center"
   },
   "outputs": [],
   "source": [
    "%%capture --no-stderr --no-stdout --no-display\n",
    "\n",
    "# queries\n",
    "\n",
    "min_prediction_year = 1949\n",
    "max_prediction_year = 2019 + 1\n",
    "prediction_year_range = range(min_prediction_year, max_prediction_year)\n",
    "papers_after_cutoffs_after_embargo_delayed_bronze = pd.DataFrame()\n",
    "\n",
    "for i, prediction_year in enumerate(range(min_prediction_year - 1, max_prediction_year)):\n",
    "    \n",
    "    q = \"\"\"\n",
    "    with fix_elsevier_delayed_oa_status as (\n",
    "    select doi, \n",
    "    case when oa_status != 'hybrid' then oa_status \n",
    "    when delayed.embargo is not null and best_license = 'elsevier-specific: oa user license' then 'bronze'\n",
    "    else 'hybrid'\n",
    "    end as oa_status\n",
    "    from unpaywall u\n",
    "    left join journal_delayed_oa_active delayed on u.journal_issn_l = delayed.issn_l\n",
    "    )    \n",
    "    select \n",
    "    datediff('days', published_date::timestamp, '{prediction_year}-01-01'::timestamp)/(30*12) as article_age_years, \n",
    "    {prediction_year} as prediction_year,\n",
    "    count(*) as num_articles\n",
    "    from unpaywall u\n",
    "    left join journal_delayed_oa_active delayed on u.journal_issn_l = delayed.issn_l\n",
    "    join fix_elsevier_delayed_oa_status fixed on fixed.doi=u.doi\n",
    "    where genre = 'journal-article' and journal_issn_l not in ('0849-6757', '0931-7597')\n",
    "    and fixed.oa_status = 'bronze'\n",
    "    and delayed.embargo is not null\n",
    "    and published_date > '1950-01-01'::timestamp\n",
    "    and published_date <= ADD_MONTHS('{prediction_year}-01-01'::timestamp, -embargo::integer)\n",
    "    \n",
    "    group by prediction_year, article_age_years\n",
    "    order by prediction_year, article_age_years asc\n",
    "    \"\"\".format(prediction_year=prediction_year)\n",
    "\n",
    "    filename_root = \"parts/{varname}_{index}\".format(varname=\"bronze_rows_by_year\", index=i)\n",
    "    bronze_rows_by_year = read_from_file_or_db(filename_root, q)\n",
    "    \n",
    "    papers_after_cutoffs_after_embargo_delayed_bronze = papers_after_cutoffs_after_embargo_delayed_bronze.append(bronze_rows_by_year)\n",
    "papers_after_cutoffs_after_embargo_delayed_bronze.to_csv(\"data/papers_after_cutoffs_after_embargo_delayed_bronze.csv\")"
   ]
  },
  {
   "cell_type": "code",
   "execution_count": 25,
   "metadata": {
    "ExecuteTime": {
     "end_time": "2019-10-01T16:43:11.560906Z",
     "start_time": "2019-10-01T16:43:11.524259Z"
    }
   },
   "outputs": [],
   "source": [
    "%%capture --no-stderr --no-stdout --no-display\n",
    "\n",
    "q = \"\"\"select u.year::numeric as published_year, count(distinct u.doi) as num_articles \n",
    "from unpaywall u\n",
    "join unpaywall u_biorxiv_record on u_biorxiv_record.doi = replace(u.best_url, 'https://doi.org/', '')\n",
    "where u.doi not like '10.1101/%' and u.best_url like '%10.1101/%'\n",
    "and datediff('days', u_biorxiv_record.published_date::timestamp, u.published_date::timestamp)/(30.0) >= 0\n",
    "and u.year >= 2013 and u.year < 2019\n",
    "group by u.year\n",
    "order by u.year desc\n",
    "\"\"\"\n",
    "biorxiv_growth = read_from_file_or_db(\"biorxiv_growth\", q)\n"
   ]
  },
  {
   "cell_type": "markdown",
   "metadata": {},
   "source": [
    "*------------------------------*"
   ]
  },
  {
   "cell_type": "markdown",
   "metadata": {},
   "source": [
    "### Number of articles by OA type, by date of publication"
   ]
  },
  {
   "cell_type": "code",
   "execution_count": 26,
   "metadata": {
    "ExecuteTime": {
     "end_time": "2019-10-01T16:43:11.600510Z",
     "start_time": "2019-10-01T16:43:11.571499Z"
    }
   },
   "outputs": [
    {
     "data": {
      "text/html": [
       "<div id=\"figure-articles_by_simple_colors\"></div>\n",
       "    <script>\n",
       "    var key = \"figure-articles_by_simple_colors\"\n",
       "    $(\"div\").each(function(i){\n",
       "        if (this.id === key){\n",
       "            this.innerHTML = '<a name=\"' + key + '\"></a>';\n",
       "        }\n",
       "    });\n",
       "    </script>\n",
       "    "
      ],
      "text/plain": [
       "<IPython.core.display.HTML object>"
      ]
     },
     "metadata": {},
     "output_type": "display_data"
    }
   ],
   "source": [
    "register_new_figure(\"articles_by_simple_colors\");\n",
    "articles_by_simple_colors_df = articles_by_color_by_year.copy()\n",
    "articles_by_simple_colors_df = articles_by_simple_colors_df.rename(\n",
    "    columns={\"published_year\": \"x\",\n",
    "             \"num_articles\": \"y\",\n",
    "             \"oa_status\": \"color\"        \n",
    "})"
   ]
  },
  {
   "cell_type": "markdown",
   "metadata": {},
   "source": [
    "The number and proportion of articles by OA type, by publication year, is shown in {{ print figure_link(\"articles_by_simple_colors\") }}.\n"
   ]
  },
  {
   "cell_type": "code",
   "execution_count": 27,
   "metadata": {
    "ExecuteTime": {
     "end_time": "2019-10-01T16:43:14.463775Z",
     "start_time": "2019-10-01T16:43:11.622291Z"
    }
   },
   "outputs": [
    {
     "data": {
      "image/png": "[encoded data removed]",
      "text/plain": [
       "<Figure size 864x216 with 2 Axes>"
      ]
     },
     "metadata": {
      "needs_background": "light"
     },
     "output_type": "display_data"
    }
   ],
   "source": [
    "plot_area_and_proportion(articles_by_simple_colors_df, \n",
    "                         \"simple\", \n",
    "                         1950, 2019, 2019,\n",
    "                         fancy=None)\n"
   ]
  },
  {
   "cell_type": "markdown",
   "metadata": {},
   "source": [
    "**{{print figure_link(\"articles_by_simple_colors\")}}: Articles by OA type, by year of publication. OA type as of October 2019.**"
   ]
  },
  {
   "cell_type": "code",
   "execution_count": 28,
   "metadata": {
    "ExecuteTime": {
     "end_time": "2019-10-01T16:43:14.520145Z",
     "start_time": "2019-10-01T16:43:14.500113Z"
    }
   },
   "outputs": [
    {
     "data": {
      "text/html": [
       "<div id=\"figure-articles_by_simple_colors_zoom\"></div>\n",
       "    <script>\n",
       "    var key = \"figure-articles_by_simple_colors_zoom\"\n",
       "    $(\"div\").each(function(i){\n",
       "        if (this.id === key){\n",
       "            this.innerHTML = '<a name=\"' + key + '\"></a>';\n",
       "        }\n",
       "    });\n",
       "    </script>\n",
       "    "
      ],
      "text/plain": [
       "<IPython.core.display.HTML object>"
      ]
     },
     "metadata": {},
     "output_type": "display_data"
    }
   ],
   "source": [
    "register_new_figure(\"articles_by_simple_colors_zoom\");"
   ]
  },
  {
   "cell_type": "markdown",
   "metadata": {},
   "source": [
    "\n",
    "The early years of {{ print figure_link(\"articles_by_simple_colors\") }} is similar to Figure 2 in Piwowar et al. (2018), with one notable difference: some of what was considered Bronze OA (and to a lesser extent hybrid OA) in Piwowar et al. (2018) is classified as Gold OA in the current analysis. This is due to an improvement in Unpaywall's algorithms. Originally, Unpaywall used the Directory of Open Access Journals (DOAJ) as the sole arbiter of whether a journal was \"fully-OA.\" Unpaywall still uses DOAJ in this way, but it now also adds an empirical check for OA journals (if 100% of a journal's articles are OA, it is listed as an OA journal). This results in a more comprehensive and accurate list of fully-OA journals, which in turn moves some articles into Gold from Hybrid and Bronze. \n",
    "\n",
    "We notice an overall publication drop in the last year of {{ print figure_link(\"articles_by_simple_colors\") }}.  This is because the graph does not include a full publication year for 2019 (this analysis was last run on {{print datetime.datetime.now().isoformat()[0:10]}}).  We can also see a visible decrease in the proportion of OA (particularly Green) in the most recent publication years.  The close-up in {{ print figure_link(\"articles_by_simple_colors_zoom\") }} makes this even more clear.  This change in OA proportions is because many articles pubished in 2018 are still under embargo at the time of this analysis (September 2019), so they are considered \"Closed\" in this graph even though they may ultimately become Green OA or Bronze OA.  More on this in [Section 4.3](#section-4-3).\n"
   ]
  },
  {
   "cell_type": "code",
   "execution_count": 29,
   "metadata": {
    "ExecuteTime": {
     "end_time": "2019-10-01T16:43:18.665430Z",
     "start_time": "2019-10-01T16:43:14.597805Z"
    }
   },
   "outputs": [
    {
     "data": {
      "image/png": "[encoded data removed]",
      "text/plain": [
       "<Figure size 864x216 with 2 Axes>"
      ]
     },
     "metadata": {
      "needs_background": "light"
     },
     "output_type": "display_data"
    }
   ],
   "source": [
    "plot_area_and_proportion(articles_by_simple_colors_df, \n",
    "                         \"simple\", \n",
    "                         2014, 2019, 2019,\n",
    "                         fancy=None)\n"
   ]
  },
  {
   "cell_type": "markdown",
   "metadata": {},
   "source": [
    "**{{print figure_link(\"articles_by_simple_colors_zoom\")}}: Articles by OA type, by the last five years of publication. OA type as of October 2019.**"
   ]
  },
  {
   "cell_type": "code",
   "execution_count": 30,
   "metadata": {
    "ExecuteTime": {
     "end_time": "2019-10-01T16:43:18.712130Z",
     "start_time": "2019-10-01T16:43:18.693365Z"
    }
   },
   "outputs": [
    {
     "data": {
      "text/html": [
       "<div id=\"figure-articles_by_simple_colors_cumulative\"></div>\n",
       "    <script>\n",
       "    var key = \"figure-articles_by_simple_colors_cumulative\"\n",
       "    $(\"div\").each(function(i){\n",
       "        if (this.id === key){\n",
       "            this.innerHTML = '<a name=\"' + key + '\"></a>';\n",
       "        }\n",
       "    });\n",
       "    </script>\n",
       "    "
      ],
      "text/plain": [
       "<IPython.core.display.HTML object>"
      ]
     },
     "metadata": {},
     "output_type": "display_data"
    }
   ],
   "source": [
    "register_new_figure(\"articles_by_simple_colors_cumulative\");"
   ]
  },
  {
   "cell_type": "markdown",
   "metadata": {},
   "source": [
    "A cumulative view of {{ print figure_link(\"articles_by_simple_colors\") }} is shown in {{ print figure_link(\"articles_by_simple_colors_cumulative\") }}.\n"
   ]
  },
  {
   "cell_type": "code",
   "execution_count": 31,
   "metadata": {
    "ExecuteTime": {
     "end_time": "2019-10-01T16:43:21.822876Z",
     "start_time": "2019-10-01T16:43:18.790267Z"
    }
   },
   "outputs": [
    {
     "data": {
      "image/png": "[encoded data removed]",
      "text/plain": [
       "<Figure size 864x216 with 2 Axes>"
      ]
     },
     "metadata": {
      "needs_background": "light"
     },
     "output_type": "display_data"
    }
   ],
   "source": [
    "plot_area_and_proportion(articles_by_simple_colors_df, \n",
    "                         \"simple\", \n",
    "                         1950, 2019, 2019,\n",
    "                         fancy=\"cumulative\")\n"
   ]
  },
  {
   "cell_type": "markdown",
   "metadata": {
    "ExecuteTime": {
     "end_time": "2019-09-30T17:18:34.552574Z",
     "start_time": "2019-09-30T17:18:34.540582Z"
    }
   },
   "source": [
    "**{{print figure_link(\"articles_by_simple_colors_cumulative\")}}: Cumulative articles by OA type, by year of publication. OA type as of October 2019.**"
   ]
  },
  {
   "cell_type": "markdown",
   "metadata": {
    "scrolled": true
   },
   "source": [
    "<a id=\"section-4-3\"></a>\n",
    "### Predicting number of articles by OA type, by date of observation"
   ]
  },
  {
   "cell_type": "markdown",
   "metadata": {},
   "source": [
    "#### Date of publication vs. Date of observation"
   ]
  },
  {
   "cell_type": "markdown",
   "metadata": {},
   "source": [
    "To predict the growth of OA in future years, we might be tempted to simply extrapolate the growth of OA types in {{ print figure_link(\"articles_by_simple_colors\") }} or {{ print figure_link(\"articles_by_simple_colors_cumulative\") }}, perhaps excluding recent publications to avoid the affect of embargos shown in {{ print figure_link(\"articles_by_simple_colors_zoom\") }}.\n",
    "\n",
    "The downside of this simple extrapolation approach is that it only gives us OA type *by date of publication*.  As {{ print figure_link(\"articles_by_simple_colors_zoom\") }} suggests, the impact of embargos is significant, and means that understanding OA by date of publication isn't very useful.  What we really want is OA by *year of observation*.\n",
    "\n",
    "We show the difference in these by a few diagrams:  \n",
    "            `insert diagrams here`\n",
    "            \n",
    "We'll compute OA by year of observation by first understanding OA lag by OA type, then extrapolating OA growth from there."
   ]
  },
  {
   "cell_type": "markdown",
   "metadata": {},
   "source": [
    "#### OA lag\n",
    "\n",
    "For Gold OA and Hybrid OA understanding OA lag is easy -- there is no lag: papers are OA at the time of publication. \n",
    "\n",
    "For Green and Bronze OA the lag is more complicated. Authors often self-archive (upload their paper to a repository) months or years after the official publication date of the paper, typically  because the journal has a policy that authors must wait a certain length of time (the \"embargo period\") before self-archiving. Funder policies that mandate Green OA often allow a delay between publication and availability (notably the National Institutes of Health in the USA, accounting for most of the content in the large PMC repository). Finally, some journals open up their back catalogs once articles reach a certain age, which has been called \"delayed OA\" (Laakso and Björk, 2013) and we consider an important subset of Bronze.\n",
    "\n",
    "We explore and model these dynamics below."
   ]
  },
  {
   "cell_type": "markdown",
   "metadata": {},
   "source": [
    "#### OA lag for Green OA"
   ]
  },
  {
   "cell_type": "code",
   "execution_count": 32,
   "metadata": {
    "ExecuteTime": {
     "end_time": "2019-10-01T16:43:22.003004Z",
     "start_time": "2019-10-01T16:43:21.985173Z"
    }
   },
   "outputs": [
    {
     "data": {
      "text/html": [
       "<div id=\"figure-oa_lag_green\"></div>\n",
       "    <script>\n",
       "    var key = \"figure-oa_lag_green\"\n",
       "    $(\"div\").each(function(i){\n",
       "        if (this.id === key){\n",
       "            this.innerHTML = '<a name=\"' + key + '\"></a>';\n",
       "        }\n",
       "    });\n",
       "    </script>\n",
       "    "
      ],
      "text/plain": [
       "<IPython.core.display.HTML object>"
      ]
     },
     "metadata": {},
     "output_type": "display_data"
    }
   ],
   "source": [
    "register_new_figure(\"oa_lag_green\");"
   ]
  },
  {
   "cell_type": "markdown",
   "metadata": {},
   "source": [
    "The age of an article when it available as Green OA can be derived from the date it was published in a repository, which we can get from its matched [OAI-PMH records](https://www.openarchives.org/pmh/) (as harvested by Unpaywall).  \n",
    "\n",
    "{{ print figure_link(\"oa_lag_green\") }} shows Green OA articles by date first made OA.  Articles first made OA in 2015 are shown in the first row, 2016 the second row, and so on.  Articles in each row are displayed as histograms by date of publication.  \n"
   ]
  },
  {
   "cell_type": "code",
   "execution_count": 33,
   "metadata": {
    "ExecuteTime": {
     "end_time": "2019-10-01T16:43:42.306925Z",
     "start_time": "2019-10-01T16:43:22.040986Z"
    }
   },
   "outputs": [
    {
     "data": {
      "image/png": "[encoded data removed]",
      "text/plain": [
       "<Figure size 576x504 with 4 Axes>"
      ]
     },
     "metadata": {
      "needs_background": "light"
     },
     "output_type": "display_data"
    }
   ],
   "source": [
    "first_detailed_plots(\"green\")"
   ]
  },
  {
   "cell_type": "markdown",
   "metadata": {},
   "source": [
    "**{{print figure_link(\"oa_lag_green\")}}: OA lag for Green OA**"
   ]
  },
  {
   "cell_type": "markdown",
   "metadata": {},
   "source": [
    "\n",
    "The first row of {{ print figure_link(\"oa_lag_green\") }} is a histogram of all articles became newly available as Green OA in 2015, binned by year of publication.  By looking at the first row in depth, we can see that a few articles are made available *before* they are actually published (articles published in 2016 or 2017) -- these were  preprints, submitted before publication.  Continuing to look at the first row, we can see the bulk of the articles that became available in 2015 were published in 2015 (lag of zero years) or in 2016 (lag of 1 year).  A few were published in 2015 (an OA lag of 2 years), and then a long tail represents the backfilling of older articles.  \n",
    "\n",
    "Looking now at all rows of {{ print figure_link(\"oa_lag_green\") }}, we can see that a similar OA lag pattern (a few preprints are available before publication, most articles become available within a 3 year OA lag, then a long tail) has held for the last four years of Green OA availability (the distribution of the bars are similar in all four rows. \n",
    "\n",
    "We can also see that the relative amount of green OA is growing slightly by year of observation (the area under the whole histogram is higher for subsequent years of observation).  \n",
    "\n",
    "We will predict the pattern and absolute amount of green OA based on these trends in [Section 4.3.7](#section-4-3-7).\n",
    "\n",
    "More details on Green OA lag are included in the Supplementary Information."
   ]
  },
  {
   "cell_type": "markdown",
   "metadata": {},
   "source": [
    "#### OA lag for Bronze Delayed OA"
   ]
  },
  {
   "cell_type": "markdown",
   "metadata": {},
   "source": [
    "There was no publicly-available definitive list of Delayed OA journals, so we derived a list empirically based on the Unpaywall database. We cross-checked the list with journal policies as well as Laakso and Björk (2013) and these sources:\n",
    "\n",
    "-   <https://www.elsevier.com/about/open-science/open-access/open-archive>\n",
    "\n",
    "-   <http://highwire.stanford.edu/cgi/journalinfo#loc>\n",
    "\n",
    "-   <https://www.ncbi.nlm.nih.gov/pmc/journals/?filter=t3&titles=current&search=journals#csvfile>\n",
    "\n",
    "-   <https://en.wikipedia.org/wiki/Category:Delayed_open_access_journals>\n",
    "\n",
    "Our resulting list includes 2.5 million articles published in 546 journals, with the following embargo lengths:\n",
    "\n",
    "embargo\tlength (months)|number of journals\n",
    "---|---\n",
    "6\t|58\n",
    "12\t|175\n",
    "18\t|137\n",
    "24\t|42\n",
    "36\t|71\n",
    "48\t|63\n",
    "Total\t|546"
   ]
  },
  {
   "cell_type": "code",
   "execution_count": 34,
   "metadata": {
    "ExecuteTime": {
     "end_time": "2019-10-01T16:43:42.375003Z",
     "start_time": "2019-10-01T16:43:42.361200Z"
    }
   },
   "outputs": [
    {
     "data": {
      "text/html": [
       "<div id=\"figure-oa_lag_delayed_bronze\"></div>\n",
       "    <script>\n",
       "    var key = \"figure-oa_lag_delayed_bronze\"\n",
       "    $(\"div\").each(function(i){\n",
       "        if (this.id === key){\n",
       "            this.innerHTML = '<a name=\"' + key + '\"></a>';\n",
       "        }\n",
       "    });\n",
       "    </script>\n",
       "    "
      ],
      "text/plain": [
       "<IPython.core.display.HTML object>"
      ]
     },
     "metadata": {},
     "output_type": "display_data"
    }
   ],
   "source": [
    "register_new_figure(\"oa_lag_delayed_bronze\");\n"
   ]
  },
  {
   "cell_type": "markdown",
   "metadata": {},
   "source": [
    "We approach the availability of Bronze Delayed OA the same way as Green OA above, \n",
    "\n",
    "Their distribution of Delayed Bronze OA articles by date first made OA is shown in {{ print figure_link(\"oa_lag_delayed_bronze\") }}, as histograms by publication date. Most articles become available after a 1 year lag.  Bumps that represent articles that become available at 24, 36, and 48 months are also clearly visible."
   ]
  },
  {
   "cell_type": "code",
   "execution_count": 35,
   "metadata": {
    "ExecuteTime": {
     "end_time": "2019-10-01T16:43:49.520439Z",
     "start_time": "2019-10-01T16:43:42.399509Z"
    }
   },
   "outputs": [
    {
     "data": {
      "image/png": "[encoded data removed]",
      "text/plain": [
       "<Figure size 576x504 with 4 Axes>"
      ]
     },
     "metadata": {
      "needs_background": "light"
     },
     "output_type": "display_data"
    }
   ],
   "source": [
    "first_detailed_plots(\"delayed_bronze\")"
   ]
  },
  {
   "cell_type": "markdown",
   "metadata": {
    "ExecuteTime": {
     "end_time": "2019-09-30T18:42:41.637086Z",
     "start_time": "2019-09-30T18:42:41.622135Z"
    }
   },
   "source": [
    "**{{print figure_link(\"oa_lag_delayed_bronze\")}}: OA lag for Delayed Bronze**"
   ]
  },
  {
   "cell_type": "markdown",
   "metadata": {
    "ExecuteTime": {
     "end_time": "2019-09-23T20:10:53.610995Z",
     "start_time": "2019-09-23T20:10:53.604913Z"
    }
   },
   "source": [
    "#### Closed access at date of observation"
   ]
  },
  {
   "cell_type": "markdown",
   "metadata": {},
   "source": [
    "Closed access articles don't have an OA lag *per se*, but whether an article is considered Closed access may differ by date of observation if it begins Closed when it is published and later becomes Green or Bronze OA.  \n",
    "\n",
    "We model this simply by considering an article Closed access at the date of observation if it has been published and is not considered OA at the time of observation."
   ]
  },
  {
   "cell_type": "markdown",
   "metadata": {
    "ExecuteTime": {
     "end_time": "2019-09-27T20:09:40.203439Z",
     "start_time": "2019-09-27T20:09:40.198184Z"
    }
   },
   "source": [
    "#### OA by date of observation, historically"
   ]
  },
  {
   "cell_type": "code",
   "execution_count": 36,
   "metadata": {
    "ExecuteTime": {
     "end_time": "2019-10-01T16:43:49.739298Z",
     "start_time": "2019-10-01T16:43:49.711879Z"
    }
   },
   "outputs": [
    {
     "data": {
      "text/html": [
       "<div id=\"figure-small-multiples-num-papers-past\"></div>\n",
       "    <script>\n",
       "    var key = \"figure-small-multiples-num-papers-past\"\n",
       "    $(\"div\").each(function(i){\n",
       "        if (this.id === key){\n",
       "            this.innerHTML = '<a name=\"' + key + '\"></a>';\n",
       "        }\n",
       "    });\n",
       "    </script>\n",
       "    "
      ],
      "text/plain": [
       "<IPython.core.display.HTML object>"
      ]
     },
     "metadata": {},
     "output_type": "display_data"
    }
   ],
   "source": [
    "register_new_figure('small-multiples-num-papers-past');"
   ]
  },
  {
   "cell_type": "markdown",
   "metadata": {},
   "source": [
    "We combine the OA lags modelled above to graph OA by date of observation in {{ print figure_link('small-multiples-num-papers-past')}}.  \n",
    "\n",
    "Each row is a year of observation, from 2015 to 2018 (the most recent full publication year).   Each column is a different OA type.  Each mini plot is a histogram of all articles available by the given observation date, for the OA type. "
   ]
  },
  {
   "cell_type": "code",
   "execution_count": 37,
   "metadata": {
    "ExecuteTime": {
     "end_time": "2019-10-01T16:44:22.486626Z",
     "start_time": "2019-10-01T16:43:49.796338Z"
    }
   },
   "outputs": [],
   "source": [
    "# start here \n",
    "\n",
    "now_year = 2015\n",
    "papers_per_year_historical = pd.DataFrame()\n",
    "for graph_type in graph_type_order:\n",
    "    for prediction_year in range(2000, now_year+1):        \n",
    "        papers_per_year = get_papers_by_availability_year(graph_type, prediction_year, just_this_year=True)\n",
    "        papers_per_year[\"graph_type\"] = graph_type\n",
    "        papers_per_year[\"prediction_year\"] = prediction_year\n",
    "        papers_per_year_historical = papers_per_year_historical.append(papers_per_year)\n"
   ]
  },
  {
   "cell_type": "code",
   "execution_count": 38,
   "metadata": {
    "ExecuteTime": {
     "end_time": "2019-10-01T16:44:22.524234Z",
     "start_time": "2019-10-01T16:44:22.511288Z"
    }
   },
   "outputs": [],
   "source": [
    "# def prof_function():\n",
    "#     x=10*20\n",
    "#     y=10+x\n",
    "#     return (y)"
   ]
  },
  {
   "cell_type": "code",
   "execution_count": 39,
   "metadata": {
    "ExecuteTime": {
     "end_time": "2019-10-01T16:44:22.553979Z",
     "start_time": "2019-10-01T16:44:22.537891Z"
    }
   },
   "outputs": [],
   "source": [
    "# %lprun -f get_papers_by_availability_year get_papers_by_availability_year(\"closed\", 2006, False)"
   ]
  },
  {
   "cell_type": "code",
   "execution_count": 40,
   "metadata": {
    "ExecuteTime": {
     "end_time": "2019-10-01T16:44:22.696488Z",
     "start_time": "2019-10-01T16:44:22.563404Z"
    }
   },
   "outputs": [
    {
     "name": "stdout",
     "output_type": "stream",
     "text": [
      "loading cached value for variable 'all_predicted_papers_historically'. Time since pickling  4:11:57.957358\n"
     ]
    }
   ],
   "source": [
    "# figure out if I also need this or if the code above does the same thing\n",
    "\n",
    "def get_all_predicted_papers(my_min, my_max):\n",
    "    all_predicted_papers = pd.DataFrame()\n",
    "    for i, graph_type in enumerate(graph_type_order):\n",
    "        all_data = get_papers_by_availability_year_including_future(graph_type, my_min, my_max)\n",
    "        all_data[\"graph_type\"] = graph_type\n",
    "        all_predicted_papers = all_predicted_papers.append(all_data)\n",
    "    return all_predicted_papers\n",
    "\n",
    "%cache all_predicted_papers_historically = get_all_predicted_papers(2000, 2015)"
   ]
  },
  {
   "cell_type": "code",
   "execution_count": 52,
   "metadata": {
    "ExecuteTime": {
     "end_time": "2019-10-01T16:50:37.138940Z",
     "start_time": "2019-10-01T16:50:15.557920Z"
    },
    "code_folding": []
   },
   "outputs": [
    {
     "data": {
      "image/png": "[encoded data removed]",
      "text/plain": [
       "<Figure size 936x288 with 24 Axes>"
      ]
     },
     "metadata": {
      "needs_background": "light"
     },
     "output_type": "display_data"
    }
   ],
   "source": [
    "my_range = range(2012, 2015+1)\n",
    "\n",
    "fig, axes = plt.subplots(len(my_range), len(graph_type_order), figsize=(13, 4), sharex=True, sharey=False)\n",
    "axes_flatten = axes.flatten()\n",
    "plt.tight_layout(pad=0, w_pad=2, h_pad=1)\n",
    "plt.subplots_adjust(hspace=1)\n",
    "\n",
    "i = 0\n",
    "for observation_year in my_range:\n",
    "    for graph_type in graph_type_order:\n",
    "        y_max = all_predicted_papers_historically.loc[all_predicted_papers_historically.graph_type == graph_type][\"num_articles\"].max()\n",
    "        this_data = all_predicted_papers_historically.copy()\n",
    "        this_data = this_data.loc[this_data.graph_type == graph_type]\n",
    "        this_data = this_data.loc[this_data.prediction_year == observation_year]\n",
    "        this_data[\"publication_date\"] = [int(observation_year - a) for a in this_data.article_years_from_availability]\n",
    "        new_data = graph_available_papers_in_observation_year_by_pubdate(graph_type, this_data, observation_year, ax=axes_flatten[i])\n",
    "        axes_flatten[i].set_ylim(0, 1.2*y_max)\n",
    "        i += 1\n",
    "axes_flatten[0].set_ylabel(\"articles\\n(millions)\");\n",
    "axes_flatten[0].set_xlabel(\"year of publication\");\n"
   ]
  },
  {
   "cell_type": "markdown",
   "metadata": {},
   "source": [
    "**{{print figure_link(\"small-multiples-num-papers-past\")}}: Articles by year of observation, past.**  Each row is a Year of Observation, the x-axis is the Year of Publication, and the y-axis is the total number of articles (millions)."
   ]
  },
  {
   "cell_type": "markdown",
   "metadata": {},
   "source": [
    "We can see that Gold, Hybrid, and Immediate Bronze OA articles all simply accumulate new articles each year of observation in the corresponding year of publication (the 2016 rows are identical to their 2015 counterparts, other than the addition of the most recent year new bar).  \n",
    "\n",
    "In contrast, Green OA and Delayed Bronze OA graphs all have more complicated additions.  The graphs for the 2016 observation year differ from the 2015 graphs  above them in that they have a few new publications in 2016, but they also boost the 2015 publication year, and even older years.  In fact we can see that when observed in 2018 (the bottom row of the whole figure) Green OA is higher in all publication years than it was in the observation year 2015 (the top row in the figure) because of expired embargos and backfilling.  A similar trend is visible for Delayed Bronze OA.  \n",
    "\n",
    "The Closed access graph has the opposite trend -- its most recent observation year in the bottom row shows *fewer* papers considered Closed OA published in 2010 (the first bar in the histogram) compared to an observation in 2015 (first row).  This is because some of what was \"observed\" as Closed in 2015 has become Green and Bronze by the observation year of 2018, and therefore no longer appears in the Closed access histograms."
   ]
  },
  {
   "cell_type": "markdown",
   "metadata": {},
   "source": [
    "<a id=\"section-4-3-7\"></a>\n",
    "#### Extrapolating growth"
   ]
  },
  {
   "cell_type": "markdown",
   "metadata": {},
   "source": [
    "We wish to extend {{print figure_link(\"small-multiples-num-papers-past\")}} to future years.  How can we extrapolate these graphs into the future?\n",
    "\n",
    "The model we use is based on observing that the papers that become available each year have a consistent distribution by article age, as seen in {{print figure_link(\"oa_lag_green\")}} for Green OA and {{print figure_link(\"oa_lag_delayed_bronze\")}} for Bronze OA (the rows within each graph have a similar shape).  \n",
    "\n",
    "If we then assume that the articles that will become available next year are similar to the articles that became available this year, we can predict the future like this:\n",
    "\n",
    "***\n",
    "```\n",
    "    total articles available next year, for a given age and OA type  = \n",
    "\n",
    "        (total articles available this year, for the age and OA type)\n",
    "\n",
    "         +\n",
    "\n",
    "        (scaling factor to account for growth, for the OA type\n",
    "        \n",
    "         *\n",
    "\n",
    "         articles made available last year, for the age and OA type)\n",
    "```\n",
    "***\n"
   ]
  },
  {
   "cell_type": "code",
   "execution_count": null,
   "metadata": {
    "ExecuteTime": {
     "end_time": "2019-10-01T16:44:36.639531Z",
     "start_time": "2019-10-01T16:43:02.621Z"
    }
   },
   "outputs": [],
   "source": [
    "register_new_figure('scaling_factor');"
   ]
  },
  {
   "cell_type": "markdown",
   "metadata": {},
   "source": [
    "The `total articles available this year` is the observation year 2018 (the last row) in {{print figure_link(\"small-multiples-num-papers-past\")}}, and the `articles made available last year, for the age and OA type` is the last row of  {{print figure_link(\"oa_lag_green\")}} for Green OA and {{print figure_link(\"oa_lag_delayed_bronze\")}} for Bronze OA.  All that remains is to calculate the `scaling factor to account for growth, for the OA type`.  We do this below, in {{print figure_link(\"scaling_factor\")}}.\n",
    "\n",
    "{{print figure_link(\"scaling_factor\")}} shows graphs of the last five years of OA made available by year (y-axis) for each OA type.  The first row is a linear fit to this data, the second row is an exponential fit, and the final row is an exponential fit with a different optimization seed.  The curve fits were done using the `scipy.optimize.curve_fit()` function.  The r^2 value is shown below each graph to indicate the goodness of fit.  \n"
   ]
  },
  {
   "cell_type": "code",
   "execution_count": 53,
   "metadata": {
    "ExecuteTime": {
     "end_time": "2019-10-01T16:51:00.204285Z",
     "start_time": "2019-10-01T16:50:59.915101Z"
    },
    "code_folding": []
   },
   "outputs": [],
   "source": [
    "# Nonlinear curve fit with confidence interval\n",
    "def curve_fit_with_ci(graph_type, papers_per_year_historical, curve_type, ax=None):\n",
    "    my_rows = papers_per_year_historical.loc[papers_per_year_historical.article_years_from_availability <= 5]\n",
    "    x = my_rows.groupby(\"prediction_year\", as_index=False).sum().prediction_year\n",
    "    y = my_rows.groupby(\"prediction_year\", as_index=False).sum().num_articles\n",
    "\n",
    "    my_color_lookup = graph_type_plus_biorxiv_lookup.loc[graph_type_plus_biorxiv_lookup[\"name\"]==graph_type]\n",
    "    my_color = my_color_lookup.iloc[0][\"color\"]\n",
    "    \n",
    "    if curve_type == \"linear\":\n",
    "        initial_guess=None\n",
    "        def func(x, a, b):\n",
    "            return a * (x - 2000) + b\n",
    "    elif curve_type == \"exp\":\n",
    "        if graph_type == \"biorxiv\":\n",
    "            initial_guess=(5, 1, 1)\n",
    "            def func(x, a, b, d):\n",
    "               return b + a * np.exp((x - 2014)/d)\n",
    "        else:\n",
    "            initial_guess=(14287, 21932, 5)\n",
    "            def func(x, a, b, d):\n",
    "               return b + a * np.exp((x - 2000)/d)\n",
    "    elif curve_type == \"negative_exp\":\n",
    "        initial_guess=(1731700, 22962997, -7)\n",
    "        def func(x, a, b, d):\n",
    "           return b - a * np.exp((x - 2000)/d) \n",
    "\n",
    "    pars, pcov = curve_fit(func, x, y, initial_guess)\n",
    "\n",
    "    xfit_extrap = range(2000, 2040+1)\n",
    "    if curve_type == \"linear\":\n",
    "        yfit_extrap = [func(a, pars[0], pars[1]) for a in xfit_extrap]\n",
    "        yfit = [func(a, pars[0], pars[1]) for a in x]\n",
    "    else:\n",
    "        yfit_extrap = [func(a, pars[0], pars[1], pars[2]) for a in xfit_extrap]\n",
    "        yfit = [func(a, pars[0], pars[1], pars[2]) for a in x]\n",
    "        \n",
    "    alpha = 0.05 # 95% confidence interval = 100*(1-alpha)\n",
    "    n = len(y)    # number of data points\n",
    "    p = len(pars) # number of parameters\n",
    "    dof = max(0, n - p) # number of degrees of freedom\n",
    "    tval = t.ppf(1.0-alpha/2., dof) # student-t value \n",
    "\n",
    "    residuals = y - yfit\n",
    "    ss_res = np.sum(residuals**2)\n",
    "    ss_tot = np.sum((y - np.mean(y))**2)\n",
    "    r_squared = 1 - (ss_res / ss_tot)\n",
    "    \n",
    "    fit_string = \"\"\n",
    "    for i, p, var in zip(range(n), pars, np.diag(pcov)):\n",
    "        sigma = var**0.5\n",
    "        fit_string += ' p{}: {} [{}  {}] '.format(i, \n",
    "                                            round(p, 3),\n",
    "                                            round(p - sigma*tval, 3),\n",
    "                                            round(p + sigma*tval, 3))\n",
    "    fit_string += \"{}\".format(round(r_squared, 3))\n",
    "#     print \"{} {} {}\".format(graph_type, curve_type, fit_string)\n",
    "\n",
    "    if not ax:\n",
    "        fig, ax = plt.subplots(1, 1, figsize=(3, 3), sharex=True, sharey=False)\n",
    "    ax.plot(x, y, 'o', color=my_color)\n",
    "    ax.set_xlim(2000, 2025)\n",
    "\n",
    "    ax.plot(xfit_extrap[0:25], yfit_extrap[0:25], '-', color=my_color)\n",
    "    ax.set_xlabel(\"r^2={}\".format(round(r_squared, 3)))\n",
    "    if max(yfit_extrap) > 100000:\n",
    "        ax.yaxis.set_major_formatter(mpl.ticker.FuncFormatter(lambda y, pos: '{0:,.2f}'.format(y/(1000*1000.0))))\n",
    "    my_return = pd.DataFrame({\n",
    "        \"x\": xfit_extrap,\n",
    "        \"y\": yfit_extrap,\n",
    "        \"r_squared\": [r_squared for y in yfit_extrap]\n",
    "    })\n",
    "    return my_return"
   ]
  },
  {
   "cell_type": "code",
   "execution_count": 213,
   "metadata": {
    "ExecuteTime": {
     "end_time": "2019-10-01T18:37:19.808943Z",
     "start_time": "2019-10-01T18:37:02.755657Z"
    }
   },
   "outputs": [
    {
     "data": {
      "image/png": "[encoded data removed]",
      "text/plain": [
       "<Figure size 864x144 with 6 Axes>"
      ]
     },
     "metadata": {},
     "output_type": "display_data"
    },
    {
     "data": {
      "image/png": "[encoded data removed]",
      "text/plain": [
       "<Figure size 864x144 with 6 Axes>"
      ]
     },
     "metadata": {},
     "output_type": "display_data"
    },
    {
     "data": {
      "image/png": "[encoded data removed]",
      "text/plain": [
       "<Figure size 864x144 with 6 Axes>"
      ]
     },
     "metadata": {},
     "output_type": "display_data"
    }
   ],
   "source": [
    "naive_data_all = pd.DataFrame()\n",
    "\n",
    "for i, curve_type in enumerate([\"linear\", \"exp\", \"negative_exp\"]):\n",
    "    fig, axes = plt.subplots(1, len(graph_type_order), figsize=(12, 2), sharex=True, sharey=False)\n",
    "    axes_flatten = axes.flatten()\n",
    "    plt.tight_layout(pad=0, w_pad=2, h_pad=1)\n",
    "    plt.subplots_adjust(hspace=1)\n",
    "\n",
    "    for i, graph_type in enumerate(graph_type_order):\n",
    "        curve_type_display = curve_type\n",
    "        data_for_plot = papers_per_year_historical.loc[papers_per_year_historical.graph_type==graph_type]\n",
    "        new_data = curve_fit_with_ci(graph_type, data_for_plot, curve_type=curve_type_display, ax=axes_flatten[i])\n",
    "        new_data[\"curve_type\"] = curve_type\n",
    "        new_data[\"graph_type\"] = graph_type\n",
    "        naive_data_all = naive_data_all.append(new_data)\n",
    "\n",
    "    plt.show()\n",
    "\n",
    "final_extraps = pd.DataFrame()\n",
    "final_extraps = final_extraps.append(naive_data_all.loc[(naive_data_all.graph_type == \"delayed_bronze\") & (naive_data_all.curve_type==\"negative_exp\")])\n",
    "final_extraps = final_extraps.append(naive_data_all.loc[(naive_data_all.graph_type == \"closed\") & (naive_data_all.curve_type==\"negative_exp\")])\n",
    "final_extraps = final_extraps.append(naive_data_all.loc[(naive_data_all.graph_type != \"delayed_bronze\") &\n",
    "                                                        (naive_data_all.graph_type != \"closed\") & \n",
    "                                                        (naive_data_all.curve_type==\"exp\")])\n"
   ]
  },
  {
   "cell_type": "markdown",
   "metadata": {
    "ExecuteTime": {
     "end_time": "2019-09-30T20:25:44.293624Z",
     "start_time": "2019-09-30T20:25:44.275460Z"
    }
   },
   "source": [
    "**{{print figure_link(\"scaling_factor\")}}: Articles by year of observation.**  Each row is a year of observation, the x-axis is the year of publication, and the y-axis is the total number of number of articles (millions) ."
   ]
  },
  {
   "cell_type": "code",
   "execution_count": 55,
   "metadata": {
    "ExecuteTime": {
     "end_time": "2019-10-01T16:51:22.775208Z",
     "start_time": "2019-10-01T16:51:22.763709Z"
    }
   },
   "outputs": [
    {
     "data": {
      "text/html": [
       "<div id=\"figure-small-multiples-num-papers-future\"></div>\n",
       "    <script>\n",
       "    var key = \"figure-small-multiples-num-papers-future\"\n",
       "    $(\"div\").each(function(i){\n",
       "        if (this.id === key){\n",
       "            this.innerHTML = '<a name=\"' + key + '\"></a>';\n",
       "        }\n",
       "    });\n",
       "    </script>\n",
       "    "
      ],
      "text/plain": [
       "<IPython.core.display.HTML object>"
      ]
     },
     "metadata": {},
     "output_type": "display_data"
    }
   ],
   "source": [
    "register_new_figure('small-multiples-num-papers-future');"
   ]
  },
  {
   "cell_type": "markdown",
   "metadata": {
    "variables": {
     "print figure_link(\"small-multiples-num-papers-future\")": "<a href=\"#figure-small-multiples-num-papers-future\">Figure 7</a>"
    }
   },
   "source": [
    "We chose the extrapolation functions with the highest r^2 values for each OA type, and used these to derive scaling factors for extrapolations through the year 2025.  Using these scaling factors, we predict the growth of OA as shown in {{print figure_link(\"small-multiples-num-papers-future\")}}"
   ]
  },
  {
   "cell_type": "code",
   "execution_count": 214,
   "metadata": {
    "ExecuteTime": {
     "end_time": "2019-10-01T18:44:11.066330Z",
     "start_time": "2019-10-01T18:42:47.708410Z"
    }
   },
   "outputs": [
    {
     "name": "stdout",
     "output_type": "stream",
     "text": [
      "resetting cached values for all_predicted_papers_future\n",
      "creating new value for variable 'all_predicted_papers_future'\n"
     ]
    }
   ],
   "source": [
    "%cache all_predicted_papers_future = get_all_predicted_papers(1995, 2025)"
   ]
  },
  {
   "cell_type": "code",
   "execution_count": 212,
   "metadata": {
    "ExecuteTime": {
     "end_time": "2019-10-01T18:37:02.689839Z",
     "start_time": "2019-10-01T18:35:09.172501Z"
    }
   },
   "outputs": [
    {
     "data": {
      "image/png": "[encoded data removed]",
      "text/plain": [
       "<Figure size 1080x864 with 60 Axes>"
      ]
     },
     "metadata": {},
     "output_type": "display_data"
    }
   ],
   "source": [
    "max_year_to_graph=2025\n",
    "my_range = range(2016, max_year_to_graph+1)\n",
    "\n",
    "fig, axes = plt.subplots(len(my_range), len(graph_type_order), figsize=(15, 12), sharex=True, sharey=False)\n",
    "axes_flatten = axes.flatten()\n",
    "plt.tight_layout(pad=0, w_pad=2, h_pad=1)\n",
    "plt.subplots_adjust(hspace=1)\n",
    "\n",
    "i = 0\n",
    "for observation_year in my_range:\n",
    "    for graph_type in graph_type_order:\n",
    "        this_data = all_predicted_papers_future.copy()\n",
    "        this_data = this_data.loc[this_data.graph_type == graph_type]\n",
    "        this_data = this_data.loc[this_data.prediction_year == observation_year]\n",
    "        this_data[\"publication_date\"] = [int(observation_year - a) for a in this_data.article_years_from_availability]\n",
    "        new_data = graph_available_papers_in_observation_year_by_pubdate(graph_type, this_data, observation_year, ax=axes_flatten[i])\n",
    "\n",
    "        y_max = all_predicted_papers_future.loc[(all_predicted_papers_future.graph_type == graph_type) &\n",
    "                                               (all_predicted_papers_future.prediction_year <= max_year_to_graph)][\"num_articles\"].max()\n",
    "        axes_flatten[i].set_ylim(0, 1.2*y_max)\n",
    "        i += 1\n",
    "axes_flatten[0].set_ylabel(\"articles\\n(millions)\");\n",
    "axes_flatten[0].set_xlabel(\"year of publication\");\n"
   ]
  },
  {
   "cell_type": "markdown",
   "metadata": {
    "variables": {
     "print figure_link(\"small-multiples-num-papers-future\")": "<a href=\"#figure-small-multiples-num-papers-future\">Figure 7</a>"
    }
   },
   "source": [
    "**{{print figure_link(\"small-multiples-num-papers-future\")}}: Articles by year of observation, extrapolated into the future.**   Each row is a Year of Observation, the x-axis is the Year of Publication, and the y-axis is the total number of articles (millions)."
   ]
  },
  {
   "cell_type": "markdown",
   "metadata": {
    "ExecuteTime": {
     "end_time": "2019-09-27T17:03:03.919284Z",
     "start_time": "2019-09-27T17:03:03.883855Z"
    }
   },
   "source": [
    "#### OA by date of observation"
   ]
  },
  {
   "cell_type": "markdown",
   "metadata": {},
   "source": [
    "We now look at this graphed one way\n",
    "\n"
   ]
  },
  {
   "cell_type": "code",
   "execution_count": 215,
   "metadata": {
    "ExecuteTime": {
     "end_time": "2019-10-01T18:44:24.550325Z",
     "start_time": "2019-10-01T18:44:22.505352Z"
    }
   },
   "outputs": [
    {
     "data": {
      "image/png": "[encoded data removed]",
      "text/plain": [
       "<Figure size 864x216 with 2 Axes>"
      ]
     },
     "metadata": {},
     "output_type": "display_data"
    }
   ],
   "source": [
    "register_new_figure(\"articles_by_observation_year_prediction\");\n",
    "articles_by_obs_year_df = all_predicted_papers_future.copy()\n",
    "articles_by_obs_year_df = articles_by_obs_year_df.rename(\n",
    "    columns={\"prediction_year\": \"x\", \"num_articles\": \"y\"})\n",
    "plot_area_and_proportion(articles_by_obs_year_df, \n",
    "                         \"standard\", \n",
    "                         2000, 2025, 2018,\n",
    "                         xlabel=\"year of observation\")\n"
   ]
  },
  {
   "cell_type": "markdown",
   "metadata": {
    "ExecuteTime": {
     "end_time": "2019-09-30T22:30:34.643116Z",
     "start_time": "2019-09-30T22:30:34.622883Z"
    },
    "variables": {
     "print figure_link(\"articles_by_observation_year_prediction\")": "<a href=\"#figure-articles_by_observation_year_prediction\">Figure 1</a>"
    }
   },
   "source": [
    "**{{print figure_link(\"articles_by_observation_year_prediction\")}}: Total articles by OA type, by year of observation.** OA type as of year of observation."
   ]
  },
  {
   "cell_type": "markdown",
   "metadata": {},
   "source": [
    "And then we do a diff"
   ]
  },
  {
   "cell_type": "code",
   "execution_count": 216,
   "metadata": {
    "ExecuteTime": {
     "end_time": "2019-10-01T18:44:30.031527Z",
     "start_time": "2019-10-01T18:44:28.001703Z"
    }
   },
   "outputs": [
    {
     "data": {
      "image/png": "[encoded data removed]",
      "text/plain": [
       "<Figure size 864x216 with 2 Axes>"
      ]
     },
     "metadata": {},
     "output_type": "display_data"
    }
   ],
   "source": [
    "register_new_figure(\"articles_by_observation_year_prediction_diff\");\n",
    "articles_by_obs_year_df = all_predicted_papers_future.copy()\n",
    "articles_by_obs_year_df = articles_by_obs_year_df.rename(\n",
    "    columns={\"prediction_year\": \"x\", \"num_articles\": \"y\"})\n",
    "\n",
    "# articles_by_obs_year_df_closed = articles_by_obs_year_df.loc[\n",
    "#     (articles_by_obs_year_df.graph_type==\"closed\") & \n",
    "#     (articles_by_obs_year_df.x <= 2025)]\n",
    "# print articles_by_obs_year_df_closed\n",
    "# plt.plot(articles_by_obs_year_df_closed.groupby(\"x\").y.sum())\n",
    "# plt.ylim(0, 2000000)\n",
    "\n",
    "# plt.plot(articles_by_obs_year_df_closed.groupby(\"x\").y.sum().diff())\n",
    "# plt.ylim(0, 2000000)\n",
    "a = plot_area_and_proportion(articles_by_obs_year_df, \n",
    "                         \"standard\", \n",
    "                         2000, 2025, 2018,\n",
    "                         xlabel=\"year of observation\", \n",
    "                         fancy=\"diff\")\n"
   ]
  },
  {
   "cell_type": "markdown",
   "metadata": {
    "variables": {
     "print figure_link(\"articles_by_observation_year_prediction_diff\")": "<a href=\"#figure-articles_by_observation_year_prediction_diff\">Figure 2</a>"
    }
   },
   "source": [
    "**{{print figure_link(\"articles_by_observation_year_prediction_diff\")}}: Change in number of articles from previous year of observation, by OA type.** Includes newly published articles, as well as articles that have changed OA type."
   ]
  },
  {
   "cell_type": "code",
   "execution_count": null,
   "metadata": {
    "ExecuteTime": {
     "end_time": "2019-09-30T22:43:09.619573Z",
     "start_time": "2019-09-30T22:43:09.478909Z"
    }
   },
   "outputs": [],
   "source": []
  },
  {
   "cell_type": "markdown",
   "metadata": {},
   "source": [
    "### Predicting articles views by OA availability"
   ]
  },
  {
   "cell_type": "markdown",
   "metadata": {},
   "source": [
    "Now that we have an analysis of OA based on time of observation, rather than simply time of publication, we can extend our examination to include OA as a percentage of usage, rather than just number of articles.\n",
    "\n",
    "To do this, we will examine data from the Unpaywall browser extension, as described in the Data section above. This data allows us to make inferences about overall readership trends--which in turn will help us make predictions about how OA will impact global readers of the research literature.\n",
    "\n",
    "We can start by describing this approach generally with the following \n",
    "\n",
    "***\n",
    "```\n",
    "    the number of times people view a paper in past and future years = \n",
    "\n",
    "        (the number of papers there are of a given age and OA type in past and future years) \n",
    "\n",
    "         *\n",
    "\n",
    "        (how many times people view a paper, given its age and OA type)\n",
    "```\n",
    "***\n",
    "\n",
    "We can state this more concisely and precisely as follows:\n",
    "\n",
    "```\n",
    "    estimated views = convolution(articles by age curve, views per article by age curve) \n",
    "```\n",
    "\n",
    "To calculate how views change over time across OA types, we do this:\n",
    "\n",
    "```\n",
    "    for snapshot_year in range(2000, 2024):\n",
    "        for oa_type in ['green', 'gold', 'hybrid', 'immediate_bronze', 'delayed_bronze', 'closed']:\n",
    "            views[snapshot_year][oa_status] = convolution(articles_by_age_curve[snapshot_year][oa_status], \n",
    "                                                          views_per_article_by_age_curve[oa_status]) \n",
    "```\n",
    "\n",
    "where [convolution](https://en.wikipedia.org/wiki/Convolution) is the standard mathematical operation of modifying a signal by a channel, by integrating the product of the two curves after one is reversed and shifted.  \n",
    "\n",
    "See Supplimentary Information for a walkthrough example."
   ]
  },
  {
   "cell_type": "code",
   "execution_count": null,
   "metadata": {
    "ExecuteTime": {
     "end_time": "2019-10-01T16:44:36.808903Z",
     "start_time": "2019-10-01T16:43:09.860Z"
    }
   },
   "outputs": [],
   "source": [
    "register_new_figure(\"view-by-age-no-color\");"
   ]
  },
  {
   "cell_type": "markdown",
   "metadata": {},
   "source": [
    "It is well known that readers are more interested in accessing newly-published articles, and indeed this trend can be seen in the Unpaywall usage logs. FIGURENUMBER {{ link_to_figure(\"view-by-age-no-color\") }} below summarizes access requests by users of the Unpaywall extension between August 2018 and August 2019, by age of the article they wished to read. As expected, readers are most interested in articles published less than a year ago.\n"
   ]
  },
  {
   "cell_type": "code",
   "execution_count": null,
   "metadata": {
    "ExecuteTime": {
     "end_time": "2019-10-01T16:44:36.838273Z",
     "start_time": "2019-10-01T16:43:10.294Z"
    },
    "code_folding": []
   },
   "outputs": [],
   "source": [
    "# hidden: code to query and graph \n",
    "%matplotlib inline\n",
    "\n",
    "my_plot = data_usage_by_age_months_no_color_full_year.plot.line(x=\"article_age_months\", y=\"num_views\")\n",
    "my_plot.set_xlim(-4, 120)\n",
    "ticks = [round(x, 1) for x in my_plot.get_xticks()/12]  # convert months to years\n",
    "my_plot.set_xticklabels(ticks);\n",
    "my_plot.yaxis.set_major_formatter(mpl.ticker.StrMethodFormatter('{x:,.0f}'))\n",
    "plt.xlabel('article age (years)')\n",
    "plt.ylabel('access requests')\n",
    "plt.title(\"Access by age of article\");\n",
    "my_plot.get_legend().remove()"
   ]
  },
  {
   "cell_type": "markdown",
   "metadata": {},
   "source": [
    "**{{print figure_link(\"view-by-age-no-color\")}}: Views by article age**"
   ]
  },
  {
   "cell_type": "markdown",
   "metadata": {
    "ExecuteTime": {
     "end_time": "2019-09-21T22:36:43.198529Z",
     "start_time": "2019-09-21T22:36:40.827219Z"
    }
   },
   "source": [
    "How can we use this access data to predict the number of views that people will be interested in in the future? And how that differs from access demand in the past?\n"
   ]
  },
  {
   "cell_type": "markdown",
   "metadata": {},
   "source": [
    "#### Articles per age curve\n",
    "\n",
    "We use the curves we calculated in Section XXX above.  "
   ]
  },
  {
   "cell_type": "markdown",
   "metadata": {},
   "source": [
    "#### Views per article by age curve\n",
    "\n"
   ]
  },
  {
   "cell_type": "markdown",
   "metadata": {
    "ExecuteTime": {
     "end_time": "2019-09-27T15:14:53.326383Z",
     "start_time": "2019-09-27T15:14:53.271089Z"
    }
   },
   "source": [
    "Now that we have an analysis of OA based on time of observation, rather than simply time of publication, we can extend our examination to include OA as a percentage of usage, rather than just number of articles.\n",
    "\n",
    "To do this, we will examine data from the Unpaywall browser extension, as described in the Data section above. This data allows us to make inferences about overall readership trends--which in turn will help us make predictions about how OA will impact global readers of the research literature.\n",
    "\n",
    "We can start by describing this approach generally with the following \n",
    "\n",
    "***\n",
    "```\n",
    "    how many times people view a paper, given its age and OA type  = \n",
    "\n",
    "        (the total number of views to papers of a given age and OA type) \n",
    "\n",
    "         /\n",
    "\n",
    "        (the number of papers of that age and OA type)\n",
    "```\n",
    "***\n",
    "\n",
    "We can state this more concisely and precisely as follows:\n",
    "\n",
    "```\n",
    "    views per article by age curve = dot_division(views by age curve, articles by age curve) \n",
    "    \n",
    "```\n",
    "\n",
    "where dot_division is the [element-wise Hadamard division](https://en.wikipedia.org/wiki/Hadamard_product_(matrices)) of two signals.\n"
   ]
  },
  {
   "cell_type": "code",
   "execution_count": null,
   "metadata": {
    "ExecuteTime": {
     "end_time": "2019-10-01T16:44:36.865357Z",
     "start_time": "2019-10-01T16:43:13.159Z"
    }
   },
   "outputs": [],
   "source": [
    "register_new_figure(\"views-by-age-with-color\");"
   ]
  },
  {
   "cell_type": "markdown",
   "metadata": {
    "ExecuteTime": {
     "end_time": "2019-09-27T15:14:58.765799Z",
     "start_time": "2019-09-27T15:14:58.755833Z"
    }
   },
   "source": [
    "First, we use the access data we have from one specific month:  July 2019.  "
   ]
  },
  {
   "cell_type": "markdown",
   "metadata": {},
   "source": [
    "We group it by OA access type and plot it by age of the article in FIGURENUMBER {{ link_to_figure(\"view-by-age-with-color\") }}."
   ]
  },
  {
   "cell_type": "code",
   "execution_count": null,
   "metadata": {
    "ExecuteTime": {
     "end_time": "2019-10-01T16:44:36.891934Z",
     "start_time": "2019-10-01T16:43:14.244Z"
    }
   },
   "outputs": [],
   "source": [
    "%cache views_per_year_total = get_views_per_year_total()  \n",
    "data_now = views_per_year_total.loc[views_per_year_total[\"article_age_years\"] >= 0]\n",
    "g = sns.FacetGrid(data_now, col=\"graph_type\", hue=\"graph_type\", col_order=graph_type_order, hue_order=graph_type_order, palette=my_cmap_graph_type)\n",
    "kws = dict(linewidth=5)\n",
    "g.map(plt.plot, \"article_age_years\", \"num_views_per_year\", **kws);"
   ]
  },
  {
   "cell_type": "markdown",
   "metadata": {},
   "source": [
    "**{{print figure_link(\"views-by-age-with-color\")}}: Views by article age, by OA type**"
   ]
  },
  {
   "cell_type": "code",
   "execution_count": null,
   "metadata": {
    "ExecuteTime": {
     "end_time": "2019-10-01T16:44:36.902381Z",
     "start_time": "2019-10-01T16:43:14.877Z"
    }
   },
   "outputs": [],
   "source": [
    "register_new_figure(\"num-papers-by-age-2018\");"
   ]
  },
  {
   "cell_type": "markdown",
   "metadata": {},
   "source": [
    "We also have the number of papers that were available in July 2019, by age of the article (here on the x axis called \"article years from availability\". [link this back to the earlier section, call it out by name. would be cool even to have these graphs in that section.]\n"
   ]
  },
  {
   "cell_type": "code",
   "execution_count": null,
   "metadata": {
    "ExecuteTime": {
     "end_time": "2019-10-01T16:44:36.906624Z",
     "start_time": "2019-10-01T16:43:16.005Z"
    }
   },
   "outputs": [],
   "source": [
    "%cache papers_by_availability_year_total_2018 = get_papers_by_availability_year_total(2018)  \n",
    "data_now = papers_by_availability_year_total_2018.loc[papers_by_availability_year_total_2018[\"article_years_from_availability\"] < 15]\n",
    "g = sns.FacetGrid(data_now, col=\"graph_type\", hue=\"graph_type\", col_order=graph_type_order, hue_order=graph_type_order, palette=my_cmap_graph_type)\n",
    "g.map(plt.bar, \"article_years_from_availability\", \"num_articles\");\n"
   ]
  },
  {
   "cell_type": "markdown",
   "metadata": {},
   "source": [
    "**{{print figure_link(\"num-papers-by-age-2018\")}}: Views by article age**"
   ]
  },
  {
   "cell_type": "markdown",
   "metadata": {
    "ExecuteTime": {
     "end_time": "2019-09-23T19:41:37.913612Z",
     "start_time": "2019-09-23T19:41:37.890891Z"
    }
   },
   "source": [
    "Now for each of the OA types individually, we divide these signals by each other. This means that, for each OA type, we divide the number of times someone viewed an article of that was 0 years old (in other words, brand new--in this case published between July 2018 and July 2019) by the number of total articles that were 0 years old -- articles that were published since July 2018. Then we take the next age bucket, 1 year old, and divide the number of views to 1 year old articles by the number of articles available in July 2019 that were 1 year old. We do this for all age bins (15 are shown in the graphs).\n",
    "\n",
    "The result of these divisions are the signals below: the number of views per article, for a given age and OA type.\n"
   ]
  },
  {
   "cell_type": "code",
   "execution_count": null,
   "metadata": {
    "ExecuteTime": {
     "end_time": "2019-10-01T16:44:36.915616Z",
     "start_time": "2019-10-01T16:43:17.934Z"
    }
   },
   "outputs": [],
   "source": [
    "register_new_figure(\"views-by-article\");"
   ]
  },
  {
   "cell_type": "code",
   "execution_count": null,
   "metadata": {
    "ExecuteTime": {
     "end_time": "2019-10-01T16:44:36.919889Z",
     "start_time": "2019-10-01T16:43:18.018Z"
    }
   },
   "outputs": [],
   "source": [
    "\n",
    "%cache views_per_article_total = get_views_per_article_total()  \n",
    "data_now = views_per_article_total.loc[views_per_article_total[\"article_age_years\"] >= 0]\n",
    "g = sns.FacetGrid(data_now, col=\"graph_type\", hue=\"graph_type\", col_order=graph_type_order, hue_order=graph_type_order, palette=my_cmap_graph_type)\n",
    "kws = dict(s=50)\n",
    "g.map(plt.scatter, \"article_age_years\", \"views_per_article\", **kws);\n",
    "g.map(plt.plot, \"article_age_years\", \"views_per_article\");\n"
   ]
  },
  {
   "cell_type": "markdown",
   "metadata": {},
   "source": [
    "**{{print figure_link(\"views-by-article\")}}: Views by article**"
   ]
  },
  {
   "cell_type": "markdown",
   "metadata": {},
   "source": [
    "#### Views by year"
   ]
  },
  {
   "cell_type": "markdown",
   "metadata": {},
   "source": [
    "Finally, an estimate of total number of views in 2022 comes from summing together the views in 2022 across all article ages. In other words, the green X in the graph below at year 2022 is the area under the green curve in the row above -- the sum of all views to green OA of age 0, age 1, age 2, age 3, etc.\n"
   ]
  },
  {
   "cell_type": "markdown",
   "metadata": {
    "ExecuteTime": {
     "end_time": "2019-09-29T20:34:28.970599Z",
     "start_time": "2019-09-29T20:34:28.965842Z"
    }
   },
   "source": [
    "#### Final answer"
   ]
  },
  {
   "cell_type": "code",
   "execution_count": null,
   "metadata": {
    "ExecuteTime": {
     "end_time": "2019-10-01T16:44:36.928068Z",
     "start_time": "2019-10-01T16:43:20.774Z"
    }
   },
   "outputs": [],
   "source": [
    "register_new_figure(\"views-small\");"
   ]
  },
  {
   "cell_type": "code",
   "execution_count": null,
   "metadata": {
    "ExecuteTime": {
     "end_time": "2019-10-01T16:44:36.931550Z",
     "start_time": "2019-10-01T16:43:20.788Z"
    }
   },
   "outputs": [],
   "source": [
    "\n",
    "%cache predicted_views_total = get_predicted_views_total(my_year)  \n",
    "data_now = predicted_views_total.loc[predicted_views_total[\"observation_year\"] >= 2010]\n",
    "g = sns.FacetGrid(data_now, col=\"graph_type\", hue=\"graph_type\", col_order=graph_type_order, hue_order=graph_type_order, palette=my_cmap_graph_type)\n",
    "kws = dict(marker=\"x\", s=70)\n",
    "g.map(plt.scatter, \"observation_year\", \"views\", **kws);"
   ]
  },
  {
   "cell_type": "markdown",
   "metadata": {},
   "source": [
    "**{{print figure_link(\"views-small\")}}: Papers by year of publication, exponential extrapolation**"
   ]
  },
  {
   "cell_type": "markdown",
   "metadata": {},
   "source": [
    "This gives us views for each year, 2010 to 2024, by OA type. The following graph is the same as the previous one, but without shared y axis so we can better see the relative trends. \n"
   ]
  },
  {
   "cell_type": "code",
   "execution_count": null,
   "metadata": {
    "ExecuteTime": {
     "end_time": "2019-10-01T16:44:36.939575Z",
     "start_time": "2019-10-01T16:43:22.030Z"
    }
   },
   "outputs": [],
   "source": [
    "register_new_figure(\"views-large\");"
   ]
  },
  {
   "cell_type": "code",
   "execution_count": null,
   "metadata": {
    "ExecuteTime": {
     "end_time": "2019-10-01T16:44:36.943631Z",
     "start_time": "2019-10-01T16:43:22.047Z"
    }
   },
   "outputs": [],
   "source": [
    "# Hi Heather\n",
    "\n",
    "fig, axes = plt.subplots(1, len(graph_type_order), figsize=(13, 3), sharex=True, sharey=False)\n",
    "axes_flatten = axes.flatten()\n",
    "plt.tight_layout(pad=0, w_pad=2, h_pad=1)\n",
    "plt.subplots_adjust(hspace=1)\n",
    "prediction_of_views = pd.DataFrame()\n",
    "for i, graph_type in enumerate(graph_type_order):\n",
    "    if True:\n",
    "#     if graph_type != \"closed\":\n",
    "#         print graph_type\n",
    "        predicted_views_this_graph = predicted_views_total.loc[predicted_views_total.graph_type==graph_type]\n",
    "        new_data = graph_views(graph_type, data=predicted_views_this_graph, ax=axes_flatten[i])\n",
    "        new_data[\"graph_type\"] = graph_type\n",
    "        prediction_of_views = prediction_of_views.append(new_data)"
   ]
  },
  {
   "cell_type": "markdown",
   "metadata": {},
   "source": [
    "**{{print figure_link(\"views-large\")}}: Papers by year of publication, exponential extrapolation**"
   ]
  },
  {
   "cell_type": "markdown",
   "metadata": {},
   "source": [
    "We can plot these lines stacked on top of each other to see how the OA types change over time.\n"
   ]
  },
  {
   "cell_type": "code",
   "execution_count": null,
   "metadata": {
    "ExecuteTime": {
     "end_time": "2019-10-01T16:44:36.950729Z",
     "start_time": "2019-10-01T16:43:23.400Z"
    }
   },
   "outputs": [],
   "source": [
    "register_new_figure(\"views-stacked\");"
   ]
  },
  {
   "cell_type": "code",
   "execution_count": null,
   "metadata": {
    "ExecuteTime": {
     "end_time": "2019-10-01T16:44:36.954506Z",
     "start_time": "2019-10-01T16:43:23.419Z"
    }
   },
   "outputs": [],
   "source": [
    "\n",
    "# if True:\n",
    "#     total_views = pd.DataFrame()\n",
    "#     for graph_type in graph_type_order:\n",
    "#         new_predicted_views = get_predicted_views(graph_type)\n",
    "#         if \"bronze\" in graph_type:\n",
    "#             oa_status = \"bronze\"\n",
    "#         else:\n",
    "#             oa_status = graph_type\n",
    "#         new_predicted_views[\"oa_status\"] = oa_status\n",
    "#         new_predicted_views[\"graph_type\"] = graph_type\n",
    "#         total_views = total_views.append(new_predicted_views)\n",
    "#     total_views_bak = total_views\n",
    "#     # print total_views.head()\n"
   ]
  },
  {
   "cell_type": "code",
   "execution_count": null,
   "metadata": {
    "ExecuteTime": {
     "end_time": "2019-10-01T16:44:36.958817Z",
     "start_time": "2019-10-01T16:43:23.438Z"
    }
   },
   "outputs": [],
   "source": [
    "\n",
    "# not cumulative because cumulative views don't mean anything\n",
    "\n",
    "all_data_pivot = predicted_views_total.pivot_table(\n",
    "             index='observation_year', columns='graph_type', values=['views'], aggfunc=np.sum)\\\n",
    "       .sort_index(axis=1, level=1)\\\n",
    "       .swaplevel(0, 1, axis=1)\n",
    "all_data_pivot.columns = all_data_pivot.columns.levels[0]\n",
    "all_data_pivot\n",
    "# all_data_pivot[oa_status_order].plot.area(stacked=True, color=oa_status_colors)\n",
    "\n",
    "fig, (ax1, ax2) = plt.subplots(1, 2, figsize=(12, 3), sharex=True, sharey=False)\n",
    "plt.tight_layout(pad=0, w_pad=2, h_pad=1)\n",
    "plt.subplots_adjust(hspace=1)\n",
    "\n",
    "all_data_pivot_graph = all_data_pivot\n",
    "all_data_pivot_graph = all_data_pivot.loc[all_data_pivot.index > 1960]\n",
    "my_plot = all_data_pivot_graph[graph_type_order].plot.area(stacked=True,  linewidth=.1, color=graph_type_colors, ax=ax1)\n",
    "ax1.yaxis.set_major_formatter(mpl.ticker.FuncFormatter(lambda y, pos: '{0:,.0f}'.format(y/(1000*1000.0))))\n",
    "ax1.set_xlabel('year of prediction')\n",
    "ax1.set_ylabel('views (millions)')\n",
    "ax1.set_xlim(2000, 2025)\n",
    "ax1.set_ylim(0, 1.2*max(all_data_pivot_graph.sum(1)))\n",
    "ax1.set_title(\"Estimated views by year of access\");\n",
    "handles, labels = my_plot.get_legend_handles_labels(); my_plot.legend(reversed(handles[0:6]), reversed(labels[0:6]), loc='upper left');  # reverse to keep order consistent\n",
    "\n",
    "df_diff_proportional = all_data_pivot_graph.div(all_data_pivot_graph.sum(1), axis=0)\n",
    "my_plot = df_diff_proportional[graph_type_order].plot.area(stacked=True,  linewidth=.1, color=graph_type_colors, ax=ax2)\n",
    "my_plot.yaxis.set_major_formatter(mpl.ticker.PercentFormatter(xmax=1))\n",
    "ax2.set_xlabel('')\n",
    "ax2.set_ylabel('proportion of views')\n",
    "ax2.set_title(\"Proportion of views\");\n",
    "ax2.set_xlim(2000, 2025)\n",
    "ax2.set_ylim(0, 1)\n",
    "handles, labels = my_plot.get_legend_handles_labels(); my_plot.legend(reversed(handles[0:6]), reversed(labels[0:6]), loc='upper left');  # reverse to keep order consistent\n",
    "\n",
    "plt.tight_layout(pad=.5, w_pad=4, h_pad=2.0)  \n",
    "\n",
    "\n"
   ]
  },
  {
   "cell_type": "markdown",
   "metadata": {},
   "source": [
    "**{{print figure_link(\"views-stacked\")}}: Papers by year of publication, exponential extrapolation**"
   ]
  },
  {
   "cell_type": "markdown",
   "metadata": {},
   "source": [
    "### Extending the model:  Growth of biorxiv"
   ]
  },
  {
   "cell_type": "markdown",
   "metadata": {},
   "source": [
    "An advantage of building a model like we have above, is that we can now layer on alternate assumptions, and see how this affects the model. We can see how anticipated disruptions might affect OA in coming years.A comprehensive examination of all the alternative futures is of course outside the scope of this paper. However,  example will be illustrative.\n",
    "\n",
    "Bioarxiv, a preprint server in biology, provides an excellent example.  As described in Abdill and Blekhman (2019), deposits into biorxiv are growing rapidly. If growth continues at the current rate, biorxiv could prove to be a major disruptor. It has the potential to have a large effect on growth of OA and the usage of OA particularly because the vast majority of the deposits are made available before article publication (and so are available during the most demanded time of usage).\n",
    "\n",
    "We model the growth of biorxiv and its impact on OA availability here by extrapolating from biorxiv papers that:\n",
    "\n",
    "-   were deposited before they were published (to simplify the model), and\n",
    "\n",
    "-   were published in subscription journals.\n",
    "\n",
    "These are plotted below, and then a logarithmic extrapolation is done to show the anticipated growth in otherwise-closed biorxiv papers through 2024.\n",
    "\n",
    "[ maybe first show a graph with just the past, showing how well teh exp curve fits. then, \"now that we've got a great candidate, etc...]\n"
   ]
  },
  {
   "cell_type": "code",
   "execution_count": null,
   "metadata": {
    "ExecuteTime": {
     "end_time": "2019-10-01T16:44:36.967794Z",
     "start_time": "2019-10-01T16:43:25.711Z"
    }
   },
   "outputs": [],
   "source": [
    "register_new_figure(\"biorxiv-exp\");"
   ]
  },
  {
   "cell_type": "code",
   "execution_count": null,
   "metadata": {
    "ExecuteTime": {
     "end_time": "2019-09-29T23:59:13.998168Z",
     "start_time": "2019-09-29T23:59:13.989246Z"
    }
   },
   "outputs": [],
   "source": []
  },
  {
   "cell_type": "code",
   "execution_count": null,
   "metadata": {
    "ExecuteTime": {
     "end_time": "2019-10-01T16:44:36.972331Z",
     "start_time": "2019-10-01T16:43:25.767Z"
    }
   },
   "outputs": [],
   "source": [
    "\n",
    "biorxiv_now_year = 2018\n",
    "\n",
    "papers_per_year_historical = papers_per_year_historical.loc[papers_per_year_historical.graph_type != 'biorxiv']\n",
    "\n",
    "for graph_type in [\"biorxiv\"]:\n",
    "    for prediction_year in range(2000, biorxiv_now_year+1):        \n",
    "        papers_per_year = get_papers_by_availability_year(graph_type, prediction_year, just_this_year=True)\n",
    "        papers_per_year[\"graph_type\"] = graph_type\n",
    "        papers_per_year[\"prediction_year\"] = prediction_year\n",
    "        papers_per_year_historical = papers_per_year_historical.append(papers_per_year)\n",
    "\n",
    "fig, axes = plt.subplots(1, 2, figsize=(8, 2), sharex=True, sharey=False)\n",
    "axes_flatten = axes.flatten()\n",
    "plt.tight_layout(pad=0, w_pad=2, h_pad=1)\n",
    "plt.subplots_adjust(hspace=1)\n",
    "    \n",
    "data_for_plot = papers_per_year_historical.loc[papers_per_year_historical.graph_type==\"biorxiv\"]\n",
    "new_data = curve_fit_with_ci(\"biorxiv\", data_for_plot, curve_type=\"exp\", ax=axes_flatten[0])\n",
    "new_data[\"curve_type\"] = \"exp\"\n",
    "new_data[\"graph_type\"] = \"biorxiv\"\n",
    "final_extraps = final_extraps.loc[final_extraps.graph_type != 'biorxiv']\n",
    "final_extraps = final_extraps.append(new_data)\n",
    "axes_flatten[0].set_xlim(2012, 2025)\n",
    "axes_flatten[0].set_yscale(\"log\")\n",
    "axes_flatten[0].set_ylabel(\"articles (log scale)\")\n",
    "\n",
    "curve_fit_with_ci(\"biorxiv\", data_for_plot, curve_type=\"exp\", ax=axes_flatten[1])\n",
    "axes_flatten[1].set_xlim(2012, 2025)\n",
    "axes_flatten[1].set_ylabel(\"articles (millions)\")\n"
   ]
  },
  {
   "cell_type": "code",
   "execution_count": null,
   "metadata": {},
   "outputs": [],
   "source": []
  },
  {
   "cell_type": "markdown",
   "metadata": {},
   "source": [
    "**{{print figure_link(\"biorxiv-exp\")}}: Biorxiv extrapolation**"
   ]
  },
  {
   "cell_type": "markdown",
   "metadata": {},
   "source": [
    "Next we want to roughly understand the impact of this growth of OA papers on access trends. For simplicity we use the generic green OA access trend derived in the Access section above (not enough biorxiv data exists yet to make its own specific curve). When we apply this access trend to the predicted growth of biorxiv papers, we estimate the following views over time: "
   ]
  },
  {
   "cell_type": "code",
   "execution_count": null,
   "metadata": {
    "ExecuteTime": {
     "end_time": "2019-10-01T16:44:36.980737Z",
     "start_time": "2019-10-01T16:43:27.416Z"
    }
   },
   "outputs": [],
   "source": [
    "register_new_figure(\"biorxiv-views\");"
   ]
  },
  {
   "cell_type": "code",
   "execution_count": null,
   "metadata": {
    "ExecuteTime": {
     "end_time": "2019-10-01T16:44:36.984894Z",
     "start_time": "2019-10-01T16:43:27.435Z"
    }
   },
   "outputs": [],
   "source": [
    "%cache predicted_views_total = get_predicted_views_total(my_year)  \n",
    "data_now = predicted_views_total.loc[predicted_views_total[\"observation_year\"] >= 2010]\n",
    "g = sns.FacetGrid(data_now, col=\"graph_type\", hue=\"graph_type\", col_order=graph_type_order, hue_order=graph_type_order, palette=my_cmap_graph_type)\n",
    "kws = dict(marker=\"x\", s=70)\n",
    "g.map(plt.scatter, \"observation_year\", \"views\", **kws);"
   ]
  },
  {
   "cell_type": "code",
   "execution_count": null,
   "metadata": {},
   "outputs": [],
   "source": []
  },
  {
   "cell_type": "code",
   "execution_count": null,
   "metadata": {
    "ExecuteTime": {
     "end_time": "2019-10-01T16:44:36.988946Z",
     "start_time": "2019-10-01T16:43:27.543Z"
    }
   },
   "outputs": [],
   "source": [
    "# \n",
    "# total_views_including_biorxiv = predicted_views_total.copy()\n",
    "# biorxiv_views = graph_views(\"biorxiv\");\n",
    "# biorxiv_views[\"graph_type\"] = \"biorxiv\"\n",
    "# biorxiv_views[\"oa_status\"] = \"biorxiv\"\n",
    "# total_views_including_biorxiv = total_views_including_biorxiv.append(biorxiv_views)"
   ]
  },
  {
   "cell_type": "markdown",
   "metadata": {
    "ExecuteTime": {
     "end_time": "2019-09-27T17:17:18.497313Z",
     "start_time": "2019-09-27T17:17:18.488126Z"
    }
   },
   "source": [
    "**{{print figure_link(\"biorxiv-views\")}}: Biorxiv extrapolation**"
   ]
  },
  {
   "cell_type": "code",
   "execution_count": null,
   "metadata": {
    "ExecuteTime": {
     "end_time": "2019-10-01T16:44:36.996867Z",
     "start_time": "2019-10-01T16:43:28.652Z"
    }
   },
   "outputs": [],
   "source": [
    "register_new_figure(\"biorxiv-stacked\");"
   ]
  },
  {
   "cell_type": "markdown",
   "metadata": {},
   "source": [
    "Finally, we include these views in the total picture. As we can see, biorxiv has the potential to boost OA availability noticeably. [add numbers...in 2024, x%of all uses/views would be hosted on biorxiv (which isn't crazy given z% of the lit is biomed?)]\n"
   ]
  },
  {
   "cell_type": "code",
   "execution_count": null,
   "metadata": {
    "ExecuteTime": {
     "end_time": "2019-10-01T16:44:37.001462Z",
     "start_time": "2019-10-01T16:43:29.618Z"
    }
   },
   "outputs": [],
   "source": [
    "all_data_pivot_plus_biorxiv = total_views_including_biorxiv.pivot_table(\n",
    "             index='observation_year', columns='graph_type', values=['views'], aggfunc=np.sum)\\\n",
    "       .sort_index(axis=1, level=1)\\\n",
    "       .swaplevel(0, 1, axis=1)\n",
    "all_data_pivot_plus_biorxiv.columns = all_data_pivot_plus_biorxiv.columns.levels[0]\n",
    "# all_data_pivot_plus_biorxiv[\"biorxiv\"] = all_data_pivot_plus_biorxiv[\"biorxiv\"].fillna(0)\n",
    "# all_data_pivot_plus_biorxiv[\"closed\"] -= all_data_pivot_plus_biorxiv[\"biorxiv\"]\n",
    "all_data_pivot_plus_biorxiv\n",
    "\n",
    "\n",
    "\n",
    "fig, (ax1, ax2) = plt.subplots(1, 2, figsize=(12, 3), sharex=True, sharey=False)\n",
    "plt.tight_layout(pad=0, w_pad=2, h_pad=1)\n",
    "plt.subplots_adjust(hspace=1)\n",
    "\n",
    "all_data_pivot_plus_biorxiv_graph = all_data_pivot_plus_biorxiv\n",
    "all_data_pivot_plus_biorxiv_graph = all_data_pivot_plus_biorxiv_graph.loc[all_data_pivot.index > 1960]\n",
    "my_plot = all_data_pivot_plus_biorxiv_graph[graph_type_order_plus_biorxiv].plot.area(stacked=True, color=graph_type_colors_plus_biorxiv, ax=ax1, linewidth=0.1)\n",
    "ax1.yaxis.set_major_formatter(mpl.ticker.FuncFormatter(lambda y, pos: '{0:,.0f}'.format(y/(1000*1000.0))))\n",
    "ax1.set_xlabel('year of prediction')\n",
    "ax1.set_ylabel('views (millions)')\n",
    "ax1.set_xlim(2010, 2024)\n",
    "ax1.set_ylim(0, 1.2*max(all_data_pivot_graph.sum(1)))\n",
    "ax1.set_title(\"Estimated views by year of access, including biorxiv growth\");\n",
    "handles, labels = my_plot.get_legend_handles_labels(); my_plot.legend(reversed(handles[0:7]), reversed(plus_biorxiv_labels[0:7]), loc='upper left');  # reverse to keep order consistent\n",
    "\n",
    "df_diff_proportional_plus_biorxiv = all_data_pivot_plus_biorxiv.div(all_data_pivot_graph.sum(1), axis=0)\n",
    "my_plot = df_diff_proportional_plus_biorxiv[graph_type_order_plus_biorxiv].plot.area(stacked=True, color=graph_type_colors_plus_biorxiv, ax=ax2, linewidth=0.1)\n",
    "my_plot.yaxis.set_major_formatter(mpl.ticker.PercentFormatter(xmax=1))\n",
    "ax2.set_xlabel('')\n",
    "ax2.set_ylabel('proportion of views')\n",
    "ax2.set_title(\"Proportion of views, including biorxiv growth\");\n",
    "ax2.set_xlim(2010, 2024)\n",
    "ax2.set_ylim(0, 1)\n",
    "handles, labels = my_plot.get_legend_handles_labels(); my_plot.legend(reversed(handles[0:7]), reversed(plus_biorxiv_labels[0:7]), loc='upper left');  # reverse to keep order consistent\n",
    "\n"
   ]
  },
  {
   "cell_type": "markdown",
   "metadata": {},
   "source": [
    "**{{print figure_link(\"biorxiv-stacked\")}}: Papers by year of publication, exponential extrapolation**"
   ]
  },
  {
   "cell_type": "markdown",
   "metadata": {},
   "source": [
    "*Next a bigger picture of the one above. Move it up to the summary at the top of the paper:*"
   ]
  },
  {
   "cell_type": "code",
   "execution_count": null,
   "metadata": {
    "ExecuteTime": {
     "end_time": "2019-10-01T16:44:37.009308Z",
     "start_time": "2019-10-01T16:43:31.213Z"
    }
   },
   "outputs": [],
   "source": [
    "fig, ax2 = plt.subplots(1, 1, figsize=(7, 5), sharex=True, sharey=False)\n",
    "plt.tight_layout(pad=0, w_pad=2, h_pad=1)\n",
    "plt.subplots_adjust(hspace=1)\n",
    "\n",
    "df_diff_proportional_plus_biorxiv_proportional = df_diff_proportional_plus_biorxiv.div(df_diff_proportional_plus_biorxiv.sum(1), axis=0)\n",
    "my_plot = df_diff_proportional_plus_biorxiv_proportional[graph_type_order_plus_biorxiv].plot.area(stacked=True, color=graph_type_colors_plus_biorxiv, ax=ax2, linewidth=0.1)\n",
    "my_plot.yaxis.set_major_formatter(mpl.ticker.PercentFormatter(xmax=1))\n",
    "ax2.set_xlabel('')\n",
    "ax2.set_ylabel('proportion of views')\n",
    "ax2.set_title(\"Estimated proportion of views, including biorxiv growth\");\n",
    "ax2.set_xlim(2010, 2024)\n",
    "ax2.set_ylim(0, 1)\n",
    "handles, labels = my_plot.get_legend_handles_labels(); my_plot.legend(reversed(handles[0:7]), reversed(plus_biorxiv_labels[0:7]), loc='upper left');  # reverse to keep order consistent\n",
    "plt.show()\n"
   ]
  },
  {
   "cell_type": "code",
   "execution_count": null,
   "metadata": {},
   "outputs": [],
   "source": []
  },
  {
   "cell_type": "markdown",
   "metadata": {},
   "source": [
    "## Discussion\n",
    "\n"
   ]
  },
  {
   "cell_type": "markdown",
   "metadata": {},
   "source": [
    "Needs writing still.  This is rough outline.\n",
    "\n",
    "We found A, B, C.\n",
    "\n",
    "This study has some limitations:\n",
    "- Some limitations of this study are similar to Piwowar et al. (2018): it only considers journal articles with DOIs and the users of the Unpaywall extension may not be representative.\n",
    "- Views are to Unpaywall right now -- intended to be representative -- Unpaywall had fewer users a few years ago and will likely have more in a few years.  This number of users as a given, we are interested in shape and relative values not absolutes.\n",
    "- Summer is not representative access time\n",
    "- researchgate\n",
    "\n",
    "This area is ripe for futher research:\n",
    "- other slices: by discipline, country, publisher\n",
    "- disruptions to model\n",
    "    - some are inherent in existing growth curves, but large ones warrent special inclusion\n",
    "    - plan S \n",
    "    - change in embargo for existing mandates\n",
    "    - increase in institutional self archiving\n",
    "    - large scale read and publish agreements\n",
    "- more refined models\n",
    "    - Could have customized view curves for different universities, scaled to number views and also subject interest.\n",
    "    - by journal.  Heterogeneous by journal, for example some journals like Cell, delayed OA is more important. Obviously bioarxiv more relevant in some subject areas, so a big impact there.\n",
    "\n",
    "And then a final sentence or two here.\n",
    "check biorxiv spelling, and correct throughout"
   ]
  },
  {
   "cell_type": "markdown",
   "metadata": {},
   "source": [
    "## References"
   ]
  },
  {
   "cell_type": "markdown",
   "metadata": {},
   "source": [
    "- Abdill, R.J., and Blekhman, R. (2019). Tracking the popularity and outcomes of all bioRxiv preprints. eLife 8.\n",
    "\n",
    "- Antelman, K. (2017). Leveraging the growth of open access in library collection decision making. At the Helm: Leading Transformation. Association of College and Research Libraries 411–422.\n",
    "\n",
    "- Laakso, M., and Björk, B.-C. (2013). Delayed open access: An overlooked high-impact category of openly available scientific literature. Journal of the American Society for Information Science and Technology 64, 1323–1329.\n",
    "\n",
    "- Lewis, D.W. (2012). The Inevitability of Open Access. College & Research Libraries 73, 493–506.\n",
    "\n",
    "- Piwowar, H., Priem, J., Larivière, V., Alperin, J.P., Matthias, L., Norlander, B., Farley, A., West, J., and Haustein, S. (2018). The state of OA: a large-scale analysis of the prevalence and impact of Open Access articles. PeerJ 6, e4375.\n",
    "\n"
   ]
  },
  {
   "cell_type": "markdown",
   "metadata": {},
   "source": [
    "## Data and code availability\n"
   ]
  },
  {
   "cell_type": "markdown",
   "metadata": {
    "ExecuteTime": {
     "end_time": "2019-09-23T15:32:53.024401Z",
     "start_time": "2019-09-23T15:32:53.005069Z"
    }
   },
   "source": [
    "### Empirical Gold OA list\n",
    "\n",
    "For now:  https://docs.google.com/spreadsheets/d/1bXeW6O2x_Jcy_NSri_BfLTvDZIPPf7S1bHkBIQm0G0c/edit?usp=sharing\n"
   ]
  },
  {
   "cell_type": "markdown",
   "metadata": {},
   "source": [
    "### Empirical bronze delayed OA list\n",
    "\n",
    "clean empirical list:\n",
    "https://docs.google.com/spreadsheets/d/1_Ts-4cmbgo1w0o5slP1xnLT4mKFz26LIokS9UUhojzI/edit#gid=1865704084\n",
    "\n",
    "policies:\n",
    "https://docs.google.com/spreadsheets/d/1c2jMSQr8L_rwG5OpxsbdVqL7R7G1NRODD35I_nh4vCE/edit#gid=2091057127"
   ]
  },
  {
   "cell_type": "markdown",
   "metadata": {},
   "source": [
    "### Study data\n",
    "\n",
    "**HEATHER to do: save all sql data variables into files, upload to Zenodo**"
   ]
  },
  {
   "cell_type": "markdown",
   "metadata": {},
   "source": [
    "### Analysis notebook\n",
    "\n",
    "Viewable at https://nbviewer.jupyter.org/gist/hpiwowar/fec0ce1cbfd31185732c72210e9de769?flush_cache=true\n",
    "\n",
    "Export using \"jupyter nbconvert manuscript.ipynb --to html_toc --TemplateExporter.exclude_input=True\"\n",
    "then can be viewed at\n",
    "https://htmlpreview.github.io/?https://github.com/Impactstory/predicting-oa-paper/blob/master/manuscript.html\n",
    "\n",
    "or a certain commit like https://htmlpreview.github.io/?https://github.com/Impactstory/predicting-oa-paper/blob/b694a19236a66f61ca39df9ab7198086f4b51680/manuscript.html\n",
    "\n",
    "In Binder (note you won't be able to run it because live database connection is not public.  See [Study data](#Study-data) sections above for access to data.) https://hub.gke.mybinder.org/user/impactstory-predicting-oa-paper-zlndhusv/notebooks/manuscript.ipynb"
   ]
  },
  {
   "cell_type": "markdown",
   "metadata": {},
   "source": [
    "## Competing Interests\n",
    "\n",
    "The authors work at [Our Research](https://ourresearch.org/) (formerly Impactstory), a non-profit company that builds tools to make scholarly research more open, connected, and reusable, including Unpaywall."
   ]
  },
  {
   "cell_type": "markdown",
   "metadata": {
    "ExecuteTime": {
     "end_time": "2019-09-23T13:28:12.086746Z",
     "start_time": "2019-09-23T13:28:12.076835Z"
    }
   },
   "source": [
    "## Funding\n",
    "\n"
   ]
  },
  {
   "cell_type": "markdown",
   "metadata": {
    "ExecuteTime": {
     "end_time": "2019-09-25T19:36:59.776277Z",
     "start_time": "2019-09-25T19:36:59.762379Z"
    }
   },
   "source": [
    "The authors received no funding for this analysis."
   ]
  },
  {
   "cell_type": "markdown",
   "metadata": {},
   "source": [
    "## Supplementary Information"
   ]
  },
  {
   "cell_type": "markdown",
   "metadata": {},
   "source": [
    "### Detailed look at OA Lag of Green OA"
   ]
  },
  {
   "cell_type": "code",
   "execution_count": null,
   "metadata": {
    "ExecuteTime": {
     "end_time": "2019-10-01T16:44:37.012813Z",
     "start_time": "2019-10-01T16:43:42.592Z"
    }
   },
   "outputs": [],
   "source": [
    "register_new_figure(\"detailed-green\");"
   ]
  },
  {
   "cell_type": "markdown",
   "metadata": {},
   "source": [
    "\n",
    "We can explore the delay between the time an article is published and when it becomes available as Green OA by comparing publication dates with dates of repository availability, available from each article's OAI-PMH record (as harvested by Unpaywall).\n",
    "\n",
    "We plot the number of Green OA papers made available each year in the graph below, vs their date of publication. The first plot is a histogram of number of papers made available each year (one row for each year). The second plot is the same, but superimposes the articles made available in previous years. This stacked area represents the total cumulative number of Green OA papers that are available in that year -- if you were in that year and wondering what was available as Green OA that's what you'd find.\n",
    "\n",
    "The third plot is a larger version of the availability as of 2018, showing the accumulation of availability. It allows us to appreciate that less than half of papers papers published in, say, 2015, were made available the same year -- most of the papers have been made available in subsequent years. The fourth plot is a slice in isolation, for clarity: the Green OA for articles with a Publication Date of 2015.\n"
   ]
  },
  {
   "cell_type": "code",
   "execution_count": null,
   "metadata": {
    "ExecuteTime": {
     "end_time": "2019-10-01T16:44:37.016437Z",
     "start_time": "2019-10-01T16:43:43.217Z"
    }
   },
   "outputs": [],
   "source": [
    "make_detailed_plots(\"green\")"
   ]
  },
  {
   "cell_type": "markdown",
   "metadata": {},
   "source": [
    "**{{print figure_link(\"detailed-green\")}}: Detailed Green OA**"
   ]
  },
  {
   "cell_type": "markdown",
   "metadata": {},
   "source": [
    "[could use clearer separation but figure labels will probably fix this]\n",
    "\n",
    "[labels should change from \"made available\" to \"available]\n",
    "\n",
    "[normalize the y-axis differently, so these graph doesn't looks smaller?]\n"
   ]
  },
  {
   "cell_type": "code",
   "execution_count": null,
   "metadata": {
    "ExecuteTime": {
     "end_time": "2019-10-01T16:44:37.029364Z",
     "start_time": "2019-10-01T16:43:44.682Z"
    }
   },
   "outputs": [],
   "source": [
    "register_new_figure(\"zoom-in-green\")\n",
    "make_zoom_in_plot(\"green\")"
   ]
  },
  {
   "cell_type": "markdown",
   "metadata": {},
   "source": [
    "**{{print figure_link(\"zoom-in-green\")}}: Zoom in green**"
   ]
  },
  {
   "cell_type": "markdown",
   "metadata": {},
   "source": [
    "### Detailed look at OA Lag of Bronze OA "
   ]
  },
  {
   "cell_type": "code",
   "execution_count": null,
   "metadata": {
    "ExecuteTime": {
     "end_time": "2019-10-01T16:44:37.054447Z",
     "start_time": "2019-10-01T16:43:46.120Z"
    }
   },
   "outputs": [],
   "source": [
    "register_new_figure(\"detailed-bronze\");"
   ]
  },
  {
   "cell_type": "code",
   "execution_count": null,
   "metadata": {
    "ExecuteTime": {
     "end_time": "2019-10-01T16:44:37.067430Z",
     "start_time": "2019-10-01T16:43:46.137Z"
    }
   },
   "outputs": [],
   "source": [
    "make_detailed_plots(\"delayed_bronze\")"
   ]
  },
  {
   "cell_type": "markdown",
   "metadata": {},
   "source": [
    "**{{print figure_link(\"detailed-bronze\")}}: Detailed Bronze Delayed OA**"
   ]
  },
  {
   "cell_type": "code",
   "execution_count": null,
   "metadata": {
    "ExecuteTime": {
     "end_time": "2019-10-01T16:44:37.077875Z",
     "start_time": "2019-10-01T16:43:47.342Z"
    }
   },
   "outputs": [],
   "source": [
    "register_new_figure(\"zoom-in-bronze\");\n",
    "make_zoom_in_plot(\"delayed_bronze\")"
   ]
  },
  {
   "cell_type": "markdown",
   "metadata": {},
   "source": [
    "**{{print figure_link(\"zoom-in-bronze\")}}: Zoom in bronze**"
   ]
  },
  {
   "cell_type": "markdown",
   "metadata": {
    "ExecuteTime": {
     "end_time": "2019-09-27T18:57:09.331015Z",
     "start_time": "2019-09-27T18:57:09.258816Z"
    }
   },
   "source": [
    "### Walk-through of convolution"
   ]
  },
  {
   "cell_type": "markdown",
   "metadata": {},
   "source": [
    "\n",
    "To show how we'll estimate views, we'll use 2022 as an example. We use the 2022 row from the give above, and the graph it by age of article (rather than year of publication). This flips the direction of the x axis. In this graph to make the next steps more clear we also use a shared y axis across all OA types.\n"
   ]
  },
  {
   "cell_type": "code",
   "execution_count": null,
   "metadata": {
    "ExecuteTime": {
     "end_time": "2019-10-01T16:44:37.086070Z",
     "start_time": "2019-10-01T16:43:50.682Z"
    }
   },
   "outputs": [],
   "source": [
    "register_new_figure('num-articles-2022');"
   ]
  },
  {
   "cell_type": "code",
   "execution_count": null,
   "metadata": {
    "ExecuteTime": {
     "end_time": "2019-10-01T16:44:37.091103Z",
     "start_time": "2019-10-01T16:43:50.765Z"
    }
   },
   "outputs": [],
   "source": [
    "\n",
    "my_year = 2022\n",
    "%cache papers_by_availability_year_total_2022 = get_papers_by_availability_year_total(my_year)  \n",
    "data_now = papers_by_availability_year_total_2022.loc[papers_by_availability_year_total_2022[\"article_years_from_availability\"] < 15]\n",
    "data_now[\"publication_year\"] = my_year - data_now[\"article_years_from_availability\"]\n",
    "g = sns.FacetGrid(data_now, col=\"graph_type\", hue=\"graph_type\", col_order=graph_type_order, hue_order=graph_type_order, palette=my_cmap_graph_type)\n",
    "kws = dict(alpha=0.1)\n",
    "g.map(plt.bar, \"article_years_from_availability\", \"num_articles\", **kws);\n",
    "\n"
   ]
  },
  {
   "cell_type": "markdown",
   "metadata": {},
   "source": [
    "**{{print figure_link(\"num-articles-2022\")}}: Papers by year of publication, exponential extrapolation**"
   ]
  },
  {
   "cell_type": "markdown",
   "metadata": {},
   "source": [
    "Next, we'll use the signal we calculated in the section \"How often does someone want to access a paper, given its age and OA type\", which shows the number of views per article someone made in 2019. An assumption in our model is that this views-per-article probability stays the same across time, so we assume that it applies to 2022 as well.\n"
   ]
  },
  {
   "cell_type": "code",
   "execution_count": null,
   "metadata": {
    "ExecuteTime": {
     "end_time": "2019-10-01T16:44:37.103610Z",
     "start_time": "2019-10-01T16:43:52.628Z"
    }
   },
   "outputs": [],
   "source": [
    "register_new_figure(\"views-per-article2\");"
   ]
  },
  {
   "cell_type": "code",
   "execution_count": null,
   "metadata": {
    "ExecuteTime": {
     "end_time": "2019-10-01T16:44:37.107126Z",
     "start_time": "2019-10-01T16:43:52.645Z"
    }
   },
   "outputs": [],
   "source": [
    "\n",
    "%cache views_per_article_total = get_views_per_article_total()  \n",
    "data_now = views_per_article_total.loc[views_per_article_total[\"article_age_years\"] >= 0]\n",
    "g = sns.FacetGrid(data_now, col=\"graph_type\", hue=\"graph_type\", col_order=graph_type_order, hue_order=graph_type_order, palette=my_cmap_graph_type)\n",
    "kws = dict(s=50)\n",
    "g.map(plt.scatter, \"article_age_years\", \"views_per_article\", **kws);\n",
    "g.map(plt.plot, \"article_age_years\", \"views_per_article\");\n"
   ]
  },
  {
   "cell_type": "markdown",
   "metadata": {},
   "source": [
    "**{{print figure_link(\"views-per-article2\")}}: Papers by year of publication, exponential extrapolation**"
   ]
  },
  {
   "cell_type": "markdown",
   "metadata": {},
   "source": [
    "Now we multiply these two signals together. We multiply them in a similar way that we divided signals in an earlier step -- we take each OA type in turn, and then take each age bin in turn. So the green OA point at 0 years in the graph below comes by multiplying the number of estimated articles in 2022 that are available as green OA and 0 years old by the number of \"views-per-article\" we calculated for green OA for articles that are 0 years old. We then do that calculation for every age bin, for every OA type, and get the graph below:\n"
   ]
  },
  {
   "cell_type": "code",
   "execution_count": null,
   "metadata": {
    "ExecuteTime": {
     "end_time": "2019-10-01T16:44:37.116753Z",
     "start_time": "2019-10-01T16:43:54.275Z"
    }
   },
   "outputs": [],
   "source": [
    "register_new_figure(\"views-by-article-year-2022\");"
   ]
  },
  {
   "cell_type": "code",
   "execution_count": null,
   "metadata": {
    "ExecuteTime": {
     "end_time": "2019-10-01T16:44:37.123387Z",
     "start_time": "2019-10-01T16:43:54.348Z"
    }
   },
   "outputs": [],
   "source": [
    "\n",
    "%cache predicted_views_by_pubdate_total = get_predicted_views_by_pubdate_total(my_year) \n",
    "data_now = predicted_views_by_pubdate_total.loc[predicted_views_by_pubdate_total[\"article_age_years\"] < 15]\n",
    "g = sns.FacetGrid(data_now, col=\"graph_type\", hue=\"graph_type\", col_order=graph_type_order, hue_order=graph_type_order, palette=my_cmap_graph_type)\n",
    "kws = dict(alpha=0.25, linewidth=8)\n",
    "g.map(plt.plot, \"article_age_years\", \"views\", **kws);\n",
    "# kws = dict(alpha=1, linewidth=5, linestyle='dashed')\n",
    "# g.map(plt.plot, \"article_age_years\", \"views\", **kws);\n",
    "for ax in g.axes[0]:\n",
    "    ax.yaxis.set_major_formatter(mpl.ticker.FuncFormatter(lambda y, pos: '{0:,.0f}'.format(y/(1000*1000.0))))\n",
    "    ax.set_ylabel(\"views (millions)\")"
   ]
  },
  {
   "cell_type": "markdown",
   "metadata": {},
   "source": [
    "**{{print figure_link(\"views-by-article-year-2022\")}}: Papers by year of publication, exponential extrapolation**"
   ]
  },
  {
   "cell_type": "code",
   "execution_count": null,
   "metadata": {},
   "outputs": [],
   "source": []
  }
 ],
 "metadata": {
  "_draft": {
   "nbviewer_url": "https://gist.github.com/fec0ce1cbfd31185732c72210e9de769"
  },
  "gist": {
   "data": {
    "description": "manuscript.ipynb",
    "public": true
   },
   "id": "fec0ce1cbfd31185732c72210e9de769"
  },
  "hide_input": false,
  "kernelspec": {
   "display_name": "Python 2",
   "language": "python",
   "name": "python2"
  },
  "language_info": {
   "codemirror_mode": {
    "name": "ipython",
    "version": 2
   },
   "file_extension": ".py",
   "mimetype": "text/x-python",
   "name": "python",
   "nbconvert_exporter": "python",
   "pygments_lexer": "ipython2",
   "version": "2.7.14"
  },
  "notify_time": "30",
  "toc": {
   "base_numbering": 1,
   "nav_menu": {},
   "number_sections": true,
   "sideBar": true,
   "skip_h1_title": true,
   "title_cell": "Table of Contents",
   "title_sidebar": "Contents",
   "toc_cell": false,
   "toc_position": {
    "height": "561px",
    "left": "200px",
    "top": "110px",
    "width": "278.797px"
   },
   "toc_section_display": true,
   "toc_window_display": true
  }
 },
 "nbformat": 4,
 "nbformat_minor": 2
}
